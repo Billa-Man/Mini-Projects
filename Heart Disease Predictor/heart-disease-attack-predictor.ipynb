{
 "cells": [
  {
   "cell_type": "code",
   "execution_count": 1,
   "id": "a92c3779",
   "metadata": {
    "execution": {
     "iopub.execute_input": "2022-03-05T11:15:04.686876Z",
     "iopub.status.busy": "2022-03-05T11:15:04.685392Z",
     "iopub.status.idle": "2022-03-05T11:15:09.859918Z",
     "shell.execute_reply": "2022-03-05T11:15:09.858997Z",
     "shell.execute_reply.started": "2022-03-05T11:09:34.546409Z"
    },
    "papermill": {
     "duration": 5.202832,
     "end_time": "2022-03-05T11:15:09.860096",
     "exception": false,
     "start_time": "2022-03-05T11:15:04.657264",
     "status": "completed"
    },
    "tags": []
   },
   "outputs": [],
   "source": [
    "# imports\n",
    "import numpy as np\n",
    "import pandas as pd\n",
    "\n",
    "import tensorflow as tf\n",
    "import matplotlib.pyplot as plt\n",
    "import keras.backend as K\n",
    "\n",
    "from keras.models import Sequential\n",
    "from keras.layers import Dense\n",
    "from sklearn.model_selection import train_test_split"
   ]
  },
  {
   "cell_type": "code",
   "execution_count": 2,
   "id": "e7d5395a",
   "metadata": {
    "execution": {
     "iopub.execute_input": "2022-03-05T11:15:09.912947Z",
     "iopub.status.busy": "2022-03-05T11:15:09.912276Z",
     "iopub.status.idle": "2022-03-05T11:15:09.914444Z",
     "shell.execute_reply": "2022-03-05T11:15:09.914904Z",
     "shell.execute_reply.started": "2022-03-05T11:09:41.392311Z"
    },
    "papermill": {
     "duration": 0.031208,
     "end_time": "2022-03-05T11:15:09.915029",
     "exception": false,
     "start_time": "2022-03-05T11:15:09.883821",
     "status": "completed"
    },
    "tags": []
   },
   "outputs": [],
   "source": [
    "def get_f1(y_true, y_pred): #taken from old keras source code\n",
    "    true_positives = K.sum(K.round(K.clip(y_true * y_pred, 0, 1)))\n",
    "    possible_positives = K.sum(K.round(K.clip(y_true, 0, 1)))\n",
    "    predicted_positives = K.sum(K.round(K.clip(y_pred, 0, 1)))\n",
    "    precision = true_positives / (predicted_positives + K.epsilon())\n",
    "    recall = true_positives / (possible_positives + K.epsilon())\n",
    "    f1_val = 2*(precision*recall)/(precision+recall+K.epsilon())\n",
    "    return f1_val"
   ]
  },
  {
   "cell_type": "code",
   "execution_count": 3,
   "id": "1faf137d",
   "metadata": {
    "execution": {
     "iopub.execute_input": "2022-03-05T11:15:09.964370Z",
     "iopub.status.busy": "2022-03-05T11:15:09.963872Z",
     "iopub.status.idle": "2022-03-05T11:15:10.765418Z",
     "shell.execute_reply": "2022-03-05T11:15:10.764944Z",
     "shell.execute_reply.started": "2022-03-05T11:09:41.403782Z"
    },
    "papermill": {
     "duration": 0.827704,
     "end_time": "2022-03-05T11:15:10.765573",
     "exception": false,
     "start_time": "2022-03-05T11:15:09.937869",
     "status": "completed"
    },
    "tags": []
   },
   "outputs": [],
   "source": [
    "# loading data\n",
    "file_path = '../input/heart-disease-health-indicators-dataset/heart_disease_health_indicators_BRFSS2015.csv'\n",
    "df = pd.read_csv(file_path)"
   ]
  },
  {
   "cell_type": "code",
   "execution_count": 4,
   "id": "9c59823b",
   "metadata": {
    "execution": {
     "iopub.execute_input": "2022-03-05T11:15:10.815656Z",
     "iopub.status.busy": "2022-03-05T11:15:10.815117Z",
     "iopub.status.idle": "2022-03-05T11:15:10.818772Z",
     "shell.execute_reply": "2022-03-05T11:15:10.818190Z",
     "shell.execute_reply.started": "2022-03-05T11:09:42.390743Z"
    },
    "papermill": {
     "duration": 0.030241,
     "end_time": "2022-03-05T11:15:10.818876",
     "exception": false,
     "start_time": "2022-03-05T11:15:10.788635",
     "status": "completed"
    },
    "tags": []
   },
   "outputs": [],
   "source": [
    "# setting parameters\n",
    "n_epochs=150\n",
    "batch_size=256\n",
    "lr=0.01\n",
    "conf=0.5"
   ]
  },
  {
   "cell_type": "code",
   "execution_count": 5,
   "id": "dccee76e",
   "metadata": {
    "execution": {
     "iopub.execute_input": "2022-03-05T11:15:10.876192Z",
     "iopub.status.busy": "2022-03-05T11:15:10.869168Z",
     "iopub.status.idle": "2022-03-05T11:15:11.008255Z",
     "shell.execute_reply": "2022-03-05T11:15:11.008755Z",
     "shell.execute_reply.started": "2022-03-05T11:09:42.402574Z"
    },
    "papermill": {
     "duration": 0.167485,
     "end_time": "2022-03-05T11:15:11.008910",
     "exception": false,
     "start_time": "2022-03-05T11:15:10.841425",
     "status": "completed"
    },
    "tags": []
   },
   "outputs": [],
   "source": [
    "#removing duplicates\n",
    "df = df.drop_duplicates()"
   ]
  },
  {
   "cell_type": "code",
   "execution_count": 6,
   "id": "5d35ef8c",
   "metadata": {
    "execution": {
     "iopub.execute_input": "2022-03-05T11:15:11.066575Z",
     "iopub.status.busy": "2022-03-05T11:15:11.065901Z",
     "iopub.status.idle": "2022-03-05T11:15:11.069085Z",
     "shell.execute_reply": "2022-03-05T11:15:11.069480Z",
     "shell.execute_reply.started": "2022-03-05T11:09:42.576981Z"
    },
    "papermill": {
     "duration": 0.037625,
     "end_time": "2022-03-05T11:15:11.069640",
     "exception": false,
     "start_time": "2022-03-05T11:15:11.032015",
     "status": "completed"
    },
    "tags": []
   },
   "outputs": [
    {
     "data": {
      "text/plain": [
       "0.0    206064\n",
       "1.0     23717\n",
       "Name: HeartDiseaseorAttack, dtype: int64"
      ]
     },
     "execution_count": 6,
     "metadata": {},
     "output_type": "execute_result"
    }
   ],
   "source": [
    "# checking skewness of classes\n",
    "df['HeartDiseaseorAttack']. value_counts()"
   ]
  },
  {
   "cell_type": "code",
   "execution_count": 7,
   "id": "a25ed98c",
   "metadata": {
    "execution": {
     "iopub.execute_input": "2022-03-05T11:15:11.121126Z",
     "iopub.status.busy": "2022-03-05T11:15:11.120297Z",
     "iopub.status.idle": "2022-03-05T11:15:11.144995Z",
     "shell.execute_reply": "2022-03-05T11:15:11.144487Z",
     "shell.execute_reply.started": "2022-03-05T11:09:42.595186Z"
    },
    "papermill": {
     "duration": 0.051963,
     "end_time": "2022-03-05T11:15:11.145126",
     "exception": false,
     "start_time": "2022-03-05T11:15:11.093163",
     "status": "completed"
    },
    "tags": []
   },
   "outputs": [],
   "source": [
    "df_pos=df[df['HeartDiseaseorAttack']==1]\n",
    "df_neg=df[df['HeartDiseaseorAttack']==0]"
   ]
  },
  {
   "cell_type": "code",
   "execution_count": 8,
   "id": "0d027600",
   "metadata": {
    "execution": {
     "iopub.execute_input": "2022-03-05T11:15:11.196161Z",
     "iopub.status.busy": "2022-03-05T11:15:11.195629Z",
     "iopub.status.idle": "2022-03-05T11:15:11.201096Z",
     "shell.execute_reply": "2022-03-05T11:15:11.200686Z",
     "shell.execute_reply.started": "2022-03-05T11:09:42.632391Z"
    },
    "papermill": {
     "duration": 0.032696,
     "end_time": "2022-03-05T11:15:11.201205",
     "exception": false,
     "start_time": "2022-03-05T11:15:11.168509",
     "status": "completed"
    },
    "tags": []
   },
   "outputs": [
    {
     "data": {
      "text/plain": [
       "(206064, 22)"
      ]
     },
     "execution_count": 8,
     "metadata": {},
     "output_type": "execute_result"
    }
   ],
   "source": [
    "df_neg.shape"
   ]
  },
  {
   "cell_type": "code",
   "execution_count": 9,
   "id": "0417cc76",
   "metadata": {
    "execution": {
     "iopub.execute_input": "2022-03-05T11:15:11.251806Z",
     "iopub.status.busy": "2022-03-05T11:15:11.251119Z",
     "iopub.status.idle": "2022-03-05T11:15:11.261341Z",
     "shell.execute_reply": "2022-03-05T11:15:11.260962Z",
     "shell.execute_reply.started": "2022-03-05T11:09:42.644157Z"
    },
    "papermill": {
     "duration": 0.037017,
     "end_time": "2022-03-05T11:15:11.261443",
     "exception": false,
     "start_time": "2022-03-05T11:15:11.224426",
     "status": "completed"
    },
    "tags": []
   },
   "outputs": [],
   "source": [
    "#Undersampling to remove skewness of Dataset\n",
    "df_neg=df_neg.sample(frac=0.1, replace=True, random_state=1)"
   ]
  },
  {
   "cell_type": "code",
   "execution_count": 10,
   "id": "cb222410",
   "metadata": {
    "execution": {
     "iopub.execute_input": "2022-03-05T11:15:11.312586Z",
     "iopub.status.busy": "2022-03-05T11:15:11.311934Z",
     "iopub.status.idle": "2022-03-05T11:15:11.314404Z",
     "shell.execute_reply": "2022-03-05T11:15:11.314910Z",
     "shell.execute_reply.started": "2022-03-05T11:09:42.664772Z"
    },
    "papermill": {
     "duration": 0.03048,
     "end_time": "2022-03-05T11:15:11.315026",
     "exception": false,
     "start_time": "2022-03-05T11:15:11.284546",
     "status": "completed"
    },
    "tags": []
   },
   "outputs": [
    {
     "data": {
      "text/plain": [
       "(20606, 22)"
      ]
     },
     "execution_count": 10,
     "metadata": {},
     "output_type": "execute_result"
    }
   ],
   "source": [
    "df_neg.shape"
   ]
  },
  {
   "cell_type": "code",
   "execution_count": 11,
   "id": "be045473",
   "metadata": {
    "execution": {
     "iopub.execute_input": "2022-03-05T11:15:11.369563Z",
     "iopub.status.busy": "2022-03-05T11:15:11.368574Z",
     "iopub.status.idle": "2022-03-05T11:15:11.373420Z",
     "shell.execute_reply": "2022-03-05T11:15:11.373862Z",
     "shell.execute_reply.started": "2022-03-05T11:09:42.674708Z"
    },
    "papermill": {
     "duration": 0.034909,
     "end_time": "2022-03-05T11:15:11.373994",
     "exception": false,
     "start_time": "2022-03-05T11:15:11.339085",
     "status": "completed"
    },
    "tags": []
   },
   "outputs": [],
   "source": [
    "df=pd.concat([df_pos, df_neg],ignore_index=True)"
   ]
  },
  {
   "cell_type": "code",
   "execution_count": 12,
   "id": "10efcd04",
   "metadata": {
    "execution": {
     "iopub.execute_input": "2022-03-05T11:15:11.426101Z",
     "iopub.status.busy": "2022-03-05T11:15:11.425338Z",
     "iopub.status.idle": "2022-03-05T11:15:11.434338Z",
     "shell.execute_reply": "2022-03-05T11:15:11.434856Z",
     "shell.execute_reply.started": "2022-03-05T11:09:42.690432Z"
    },
    "papermill": {
     "duration": 0.036977,
     "end_time": "2022-03-05T11:15:11.434977",
     "exception": false,
     "start_time": "2022-03-05T11:15:11.398000",
     "status": "completed"
    },
    "tags": []
   },
   "outputs": [],
   "source": [
    "# shuffling\n",
    "df = df.sample(frac = 1)"
   ]
  },
  {
   "cell_type": "code",
   "execution_count": 13,
   "id": "88e4078e",
   "metadata": {
    "execution": {
     "iopub.execute_input": "2022-03-05T11:15:11.491429Z",
     "iopub.status.busy": "2022-03-05T11:15:11.490906Z",
     "iopub.status.idle": "2022-03-05T11:15:11.517815Z",
     "shell.execute_reply": "2022-03-05T11:15:11.518228Z",
     "shell.execute_reply.started": "2022-03-05T11:09:42.712393Z"
    },
    "papermill": {
     "duration": 0.059721,
     "end_time": "2022-03-05T11:15:11.518345",
     "exception": false,
     "start_time": "2022-03-05T11:15:11.458624",
     "status": "completed"
    },
    "tags": []
   },
   "outputs": [
    {
     "data": {
      "text/html": [
       "<div>\n",
       "<style scoped>\n",
       "    .dataframe tbody tr th:only-of-type {\n",
       "        vertical-align: middle;\n",
       "    }\n",
       "\n",
       "    .dataframe tbody tr th {\n",
       "        vertical-align: top;\n",
       "    }\n",
       "\n",
       "    .dataframe thead th {\n",
       "        text-align: right;\n",
       "    }\n",
       "</style>\n",
       "<table border=\"1\" class=\"dataframe\">\n",
       "  <thead>\n",
       "    <tr style=\"text-align: right;\">\n",
       "      <th></th>\n",
       "      <th>HighBP</th>\n",
       "      <th>HighChol</th>\n",
       "      <th>CholCheck</th>\n",
       "      <th>BMI</th>\n",
       "      <th>Smoker</th>\n",
       "      <th>Stroke</th>\n",
       "      <th>Diabetes</th>\n",
       "      <th>PhysActivity</th>\n",
       "      <th>Fruits</th>\n",
       "      <th>Veggies</th>\n",
       "      <th>...</th>\n",
       "      <th>AnyHealthcare</th>\n",
       "      <th>NoDocbcCost</th>\n",
       "      <th>GenHlth</th>\n",
       "      <th>MentHlth</th>\n",
       "      <th>PhysHlth</th>\n",
       "      <th>DiffWalk</th>\n",
       "      <th>Sex</th>\n",
       "      <th>Age</th>\n",
       "      <th>Education</th>\n",
       "      <th>Income</th>\n",
       "    </tr>\n",
       "  </thead>\n",
       "  <tbody>\n",
       "    <tr>\n",
       "      <th>19005</th>\n",
       "      <td>1.0</td>\n",
       "      <td>1.0</td>\n",
       "      <td>1.0</td>\n",
       "      <td>38.0</td>\n",
       "      <td>0.0</td>\n",
       "      <td>0.0</td>\n",
       "      <td>0.0</td>\n",
       "      <td>1.0</td>\n",
       "      <td>1.0</td>\n",
       "      <td>1.0</td>\n",
       "      <td>...</td>\n",
       "      <td>1.0</td>\n",
       "      <td>0.0</td>\n",
       "      <td>3.0</td>\n",
       "      <td>10.0</td>\n",
       "      <td>10.0</td>\n",
       "      <td>0.0</td>\n",
       "      <td>1.0</td>\n",
       "      <td>7.0</td>\n",
       "      <td>5.0</td>\n",
       "      <td>7.0</td>\n",
       "    </tr>\n",
       "    <tr>\n",
       "      <th>39866</th>\n",
       "      <td>1.0</td>\n",
       "      <td>1.0</td>\n",
       "      <td>1.0</td>\n",
       "      <td>35.0</td>\n",
       "      <td>0.0</td>\n",
       "      <td>0.0</td>\n",
       "      <td>2.0</td>\n",
       "      <td>1.0</td>\n",
       "      <td>1.0</td>\n",
       "      <td>0.0</td>\n",
       "      <td>...</td>\n",
       "      <td>1.0</td>\n",
       "      <td>1.0</td>\n",
       "      <td>4.0</td>\n",
       "      <td>5.0</td>\n",
       "      <td>0.0</td>\n",
       "      <td>0.0</td>\n",
       "      <td>1.0</td>\n",
       "      <td>8.0</td>\n",
       "      <td>4.0</td>\n",
       "      <td>5.0</td>\n",
       "    </tr>\n",
       "    <tr>\n",
       "      <th>29053</th>\n",
       "      <td>1.0</td>\n",
       "      <td>1.0</td>\n",
       "      <td>1.0</td>\n",
       "      <td>25.0</td>\n",
       "      <td>1.0</td>\n",
       "      <td>0.0</td>\n",
       "      <td>0.0</td>\n",
       "      <td>1.0</td>\n",
       "      <td>1.0</td>\n",
       "      <td>1.0</td>\n",
       "      <td>...</td>\n",
       "      <td>1.0</td>\n",
       "      <td>0.0</td>\n",
       "      <td>1.0</td>\n",
       "      <td>5.0</td>\n",
       "      <td>0.0</td>\n",
       "      <td>0.0</td>\n",
       "      <td>1.0</td>\n",
       "      <td>9.0</td>\n",
       "      <td>6.0</td>\n",
       "      <td>8.0</td>\n",
       "    </tr>\n",
       "    <tr>\n",
       "      <th>41405</th>\n",
       "      <td>1.0</td>\n",
       "      <td>1.0</td>\n",
       "      <td>1.0</td>\n",
       "      <td>29.0</td>\n",
       "      <td>0.0</td>\n",
       "      <td>0.0</td>\n",
       "      <td>0.0</td>\n",
       "      <td>0.0</td>\n",
       "      <td>0.0</td>\n",
       "      <td>0.0</td>\n",
       "      <td>...</td>\n",
       "      <td>1.0</td>\n",
       "      <td>0.0</td>\n",
       "      <td>2.0</td>\n",
       "      <td>0.0</td>\n",
       "      <td>2.0</td>\n",
       "      <td>0.0</td>\n",
       "      <td>1.0</td>\n",
       "      <td>7.0</td>\n",
       "      <td>2.0</td>\n",
       "      <td>5.0</td>\n",
       "    </tr>\n",
       "    <tr>\n",
       "      <th>38274</th>\n",
       "      <td>0.0</td>\n",
       "      <td>0.0</td>\n",
       "      <td>1.0</td>\n",
       "      <td>22.0</td>\n",
       "      <td>0.0</td>\n",
       "      <td>0.0</td>\n",
       "      <td>0.0</td>\n",
       "      <td>1.0</td>\n",
       "      <td>0.0</td>\n",
       "      <td>1.0</td>\n",
       "      <td>...</td>\n",
       "      <td>1.0</td>\n",
       "      <td>0.0</td>\n",
       "      <td>3.0</td>\n",
       "      <td>0.0</td>\n",
       "      <td>0.0</td>\n",
       "      <td>0.0</td>\n",
       "      <td>1.0</td>\n",
       "      <td>8.0</td>\n",
       "      <td>6.0</td>\n",
       "      <td>7.0</td>\n",
       "    </tr>\n",
       "  </tbody>\n",
       "</table>\n",
       "<p>5 rows × 21 columns</p>\n",
       "</div>"
      ],
      "text/plain": [
       "       HighBP  HighChol  CholCheck   BMI  Smoker  Stroke  Diabetes  \\\n",
       "19005     1.0       1.0        1.0  38.0     0.0     0.0       0.0   \n",
       "39866     1.0       1.0        1.0  35.0     0.0     0.0       2.0   \n",
       "29053     1.0       1.0        1.0  25.0     1.0     0.0       0.0   \n",
       "41405     1.0       1.0        1.0  29.0     0.0     0.0       0.0   \n",
       "38274     0.0       0.0        1.0  22.0     0.0     0.0       0.0   \n",
       "\n",
       "       PhysActivity  Fruits  Veggies  ...  AnyHealthcare  NoDocbcCost  \\\n",
       "19005           1.0     1.0      1.0  ...            1.0          0.0   \n",
       "39866           1.0     1.0      0.0  ...            1.0          1.0   \n",
       "29053           1.0     1.0      1.0  ...            1.0          0.0   \n",
       "41405           0.0     0.0      0.0  ...            1.0          0.0   \n",
       "38274           1.0     0.0      1.0  ...            1.0          0.0   \n",
       "\n",
       "       GenHlth  MentHlth  PhysHlth  DiffWalk  Sex  Age  Education  Income  \n",
       "19005      3.0      10.0      10.0       0.0  1.0  7.0        5.0     7.0  \n",
       "39866      4.0       5.0       0.0       0.0  1.0  8.0        4.0     5.0  \n",
       "29053      1.0       5.0       0.0       0.0  1.0  9.0        6.0     8.0  \n",
       "41405      2.0       0.0       2.0       0.0  1.0  7.0        2.0     5.0  \n",
       "38274      3.0       0.0       0.0       0.0  1.0  8.0        6.0     7.0  \n",
       "\n",
       "[5 rows x 21 columns]"
      ]
     },
     "execution_count": 13,
     "metadata": {},
     "output_type": "execute_result"
    }
   ],
   "source": [
    "# separating the X and Y parts of dataset\n",
    "y_df=df[\"HeartDiseaseorAttack\"]\n",
    "x_df = df.drop(['HeartDiseaseorAttack'], axis = 1)\n",
    "x_df.head()"
   ]
  },
  {
   "cell_type": "code",
   "execution_count": 14,
   "id": "86d35c10",
   "metadata": {
    "execution": {
     "iopub.execute_input": "2022-03-05T11:15:11.575497Z",
     "iopub.status.busy": "2022-03-05T11:15:11.574633Z",
     "iopub.status.idle": "2022-03-05T11:15:11.576562Z",
     "shell.execute_reply": "2022-03-05T11:15:11.577076Z",
     "shell.execute_reply.started": "2022-03-05T11:09:42.766536Z"
    },
    "papermill": {
     "duration": 0.032635,
     "end_time": "2022-03-05T11:15:11.577204",
     "exception": false,
     "start_time": "2022-03-05T11:15:11.544569",
     "status": "completed"
    },
    "tags": []
   },
   "outputs": [],
   "source": [
    "# columns that need to be normalised\n",
    "cols=['BMI', 'GenHlth', 'MentHlth', 'PhysHlth', 'Age', 'Education', 'Income']"
   ]
  },
  {
   "cell_type": "code",
   "execution_count": 15,
   "id": "95c00793",
   "metadata": {
    "execution": {
     "iopub.execute_input": "2022-03-05T11:15:11.638635Z",
     "iopub.status.busy": "2022-03-05T11:15:11.635663Z",
     "iopub.status.idle": "2022-03-05T11:15:11.650138Z",
     "shell.execute_reply": "2022-03-05T11:15:11.649702Z",
     "shell.execute_reply.started": "2022-03-05T11:09:42.775654Z"
    },
    "papermill": {
     "duration": 0.046576,
     "end_time": "2022-03-05T11:15:11.650243",
     "exception": false,
     "start_time": "2022-03-05T11:15:11.603667",
     "status": "completed"
    },
    "tags": []
   },
   "outputs": [],
   "source": [
    "# normalising\n",
    "x_df[cols] = (x_df[cols] - x_df[cols].min())/ (x_df[cols].max()- x_df[cols].min())"
   ]
  },
  {
   "cell_type": "code",
   "execution_count": 16,
   "id": "6e38d801",
   "metadata": {
    "execution": {
     "iopub.execute_input": "2022-03-05T11:15:11.734743Z",
     "iopub.status.busy": "2022-03-05T11:15:11.733945Z",
     "iopub.status.idle": "2022-03-05T11:15:11.737202Z",
     "shell.execute_reply": "2022-03-05T11:15:11.737638Z",
     "shell.execute_reply.started": "2022-03-05T11:09:42.799438Z"
    },
    "papermill": {
     "duration": 0.060422,
     "end_time": "2022-03-05T11:15:11.737783",
     "exception": false,
     "start_time": "2022-03-05T11:15:11.677361",
     "status": "completed"
    },
    "tags": []
   },
   "outputs": [
    {
     "data": {
      "text/html": [
       "<div>\n",
       "<style scoped>\n",
       "    .dataframe tbody tr th:only-of-type {\n",
       "        vertical-align: middle;\n",
       "    }\n",
       "\n",
       "    .dataframe tbody tr th {\n",
       "        vertical-align: top;\n",
       "    }\n",
       "\n",
       "    .dataframe thead th {\n",
       "        text-align: right;\n",
       "    }\n",
       "</style>\n",
       "<table border=\"1\" class=\"dataframe\">\n",
       "  <thead>\n",
       "    <tr style=\"text-align: right;\">\n",
       "      <th></th>\n",
       "      <th>HighBP</th>\n",
       "      <th>HighChol</th>\n",
       "      <th>CholCheck</th>\n",
       "      <th>BMI</th>\n",
       "      <th>Smoker</th>\n",
       "      <th>Stroke</th>\n",
       "      <th>Diabetes</th>\n",
       "      <th>PhysActivity</th>\n",
       "      <th>Fruits</th>\n",
       "      <th>Veggies</th>\n",
       "      <th>...</th>\n",
       "      <th>AnyHealthcare</th>\n",
       "      <th>NoDocbcCost</th>\n",
       "      <th>GenHlth</th>\n",
       "      <th>MentHlth</th>\n",
       "      <th>PhysHlth</th>\n",
       "      <th>DiffWalk</th>\n",
       "      <th>Sex</th>\n",
       "      <th>Age</th>\n",
       "      <th>Education</th>\n",
       "      <th>Income</th>\n",
       "    </tr>\n",
       "  </thead>\n",
       "  <tbody>\n",
       "    <tr>\n",
       "      <th>19005</th>\n",
       "      <td>1.0</td>\n",
       "      <td>1.0</td>\n",
       "      <td>1.0</td>\n",
       "      <td>0.302326</td>\n",
       "      <td>0.0</td>\n",
       "      <td>0.0</td>\n",
       "      <td>0.0</td>\n",
       "      <td>1.0</td>\n",
       "      <td>1.0</td>\n",
       "      <td>1.0</td>\n",
       "      <td>...</td>\n",
       "      <td>1.0</td>\n",
       "      <td>0.0</td>\n",
       "      <td>0.50</td>\n",
       "      <td>0.333333</td>\n",
       "      <td>0.333333</td>\n",
       "      <td>0.0</td>\n",
       "      <td>1.0</td>\n",
       "      <td>0.500000</td>\n",
       "      <td>0.8</td>\n",
       "      <td>0.857143</td>\n",
       "    </tr>\n",
       "    <tr>\n",
       "      <th>39866</th>\n",
       "      <td>1.0</td>\n",
       "      <td>1.0</td>\n",
       "      <td>1.0</td>\n",
       "      <td>0.267442</td>\n",
       "      <td>0.0</td>\n",
       "      <td>0.0</td>\n",
       "      <td>2.0</td>\n",
       "      <td>1.0</td>\n",
       "      <td>1.0</td>\n",
       "      <td>0.0</td>\n",
       "      <td>...</td>\n",
       "      <td>1.0</td>\n",
       "      <td>1.0</td>\n",
       "      <td>0.75</td>\n",
       "      <td>0.166667</td>\n",
       "      <td>0.000000</td>\n",
       "      <td>0.0</td>\n",
       "      <td>1.0</td>\n",
       "      <td>0.583333</td>\n",
       "      <td>0.6</td>\n",
       "      <td>0.571429</td>\n",
       "    </tr>\n",
       "    <tr>\n",
       "      <th>29053</th>\n",
       "      <td>1.0</td>\n",
       "      <td>1.0</td>\n",
       "      <td>1.0</td>\n",
       "      <td>0.151163</td>\n",
       "      <td>1.0</td>\n",
       "      <td>0.0</td>\n",
       "      <td>0.0</td>\n",
       "      <td>1.0</td>\n",
       "      <td>1.0</td>\n",
       "      <td>1.0</td>\n",
       "      <td>...</td>\n",
       "      <td>1.0</td>\n",
       "      <td>0.0</td>\n",
       "      <td>0.00</td>\n",
       "      <td>0.166667</td>\n",
       "      <td>0.000000</td>\n",
       "      <td>0.0</td>\n",
       "      <td>1.0</td>\n",
       "      <td>0.666667</td>\n",
       "      <td>1.0</td>\n",
       "      <td>1.000000</td>\n",
       "    </tr>\n",
       "    <tr>\n",
       "      <th>41405</th>\n",
       "      <td>1.0</td>\n",
       "      <td>1.0</td>\n",
       "      <td>1.0</td>\n",
       "      <td>0.197674</td>\n",
       "      <td>0.0</td>\n",
       "      <td>0.0</td>\n",
       "      <td>0.0</td>\n",
       "      <td>0.0</td>\n",
       "      <td>0.0</td>\n",
       "      <td>0.0</td>\n",
       "      <td>...</td>\n",
       "      <td>1.0</td>\n",
       "      <td>0.0</td>\n",
       "      <td>0.25</td>\n",
       "      <td>0.000000</td>\n",
       "      <td>0.066667</td>\n",
       "      <td>0.0</td>\n",
       "      <td>1.0</td>\n",
       "      <td>0.500000</td>\n",
       "      <td>0.2</td>\n",
       "      <td>0.571429</td>\n",
       "    </tr>\n",
       "    <tr>\n",
       "      <th>38274</th>\n",
       "      <td>0.0</td>\n",
       "      <td>0.0</td>\n",
       "      <td>1.0</td>\n",
       "      <td>0.116279</td>\n",
       "      <td>0.0</td>\n",
       "      <td>0.0</td>\n",
       "      <td>0.0</td>\n",
       "      <td>1.0</td>\n",
       "      <td>0.0</td>\n",
       "      <td>1.0</td>\n",
       "      <td>...</td>\n",
       "      <td>1.0</td>\n",
       "      <td>0.0</td>\n",
       "      <td>0.50</td>\n",
       "      <td>0.000000</td>\n",
       "      <td>0.000000</td>\n",
       "      <td>0.0</td>\n",
       "      <td>1.0</td>\n",
       "      <td>0.583333</td>\n",
       "      <td>1.0</td>\n",
       "      <td>0.857143</td>\n",
       "    </tr>\n",
       "  </tbody>\n",
       "</table>\n",
       "<p>5 rows × 21 columns</p>\n",
       "</div>"
      ],
      "text/plain": [
       "       HighBP  HighChol  CholCheck       BMI  Smoker  Stroke  Diabetes  \\\n",
       "19005     1.0       1.0        1.0  0.302326     0.0     0.0       0.0   \n",
       "39866     1.0       1.0        1.0  0.267442     0.0     0.0       2.0   \n",
       "29053     1.0       1.0        1.0  0.151163     1.0     0.0       0.0   \n",
       "41405     1.0       1.0        1.0  0.197674     0.0     0.0       0.0   \n",
       "38274     0.0       0.0        1.0  0.116279     0.0     0.0       0.0   \n",
       "\n",
       "       PhysActivity  Fruits  Veggies  ...  AnyHealthcare  NoDocbcCost  \\\n",
       "19005           1.0     1.0      1.0  ...            1.0          0.0   \n",
       "39866           1.0     1.0      0.0  ...            1.0          1.0   \n",
       "29053           1.0     1.0      1.0  ...            1.0          0.0   \n",
       "41405           0.0     0.0      0.0  ...            1.0          0.0   \n",
       "38274           1.0     0.0      1.0  ...            1.0          0.0   \n",
       "\n",
       "       GenHlth  MentHlth  PhysHlth  DiffWalk  Sex       Age  Education  \\\n",
       "19005     0.50  0.333333  0.333333       0.0  1.0  0.500000        0.8   \n",
       "39866     0.75  0.166667  0.000000       0.0  1.0  0.583333        0.6   \n",
       "29053     0.00  0.166667  0.000000       0.0  1.0  0.666667        1.0   \n",
       "41405     0.25  0.000000  0.066667       0.0  1.0  0.500000        0.2   \n",
       "38274     0.50  0.000000  0.000000       0.0  1.0  0.583333        1.0   \n",
       "\n",
       "         Income  \n",
       "19005  0.857143  \n",
       "39866  0.571429  \n",
       "29053  1.000000  \n",
       "41405  0.571429  \n",
       "38274  0.857143  \n",
       "\n",
       "[5 rows x 21 columns]"
      ]
     },
     "execution_count": 16,
     "metadata": {},
     "output_type": "execute_result"
    }
   ],
   "source": [
    "x_df.head()"
   ]
  },
  {
   "cell_type": "code",
   "execution_count": 17,
   "id": "eac7884f",
   "metadata": {
    "execution": {
     "iopub.execute_input": "2022-03-05T11:15:11.795481Z",
     "iopub.status.busy": "2022-03-05T11:15:11.794693Z",
     "iopub.status.idle": "2022-03-05T11:15:11.796689Z",
     "shell.execute_reply": "2022-03-05T11:15:11.797145Z",
     "shell.execute_reply.started": "2022-03-05T11:09:42.841755Z"
    },
    "papermill": {
     "duration": 0.032336,
     "end_time": "2022-03-05T11:15:11.797294",
     "exception": false,
     "start_time": "2022-03-05T11:15:11.764958",
     "status": "completed"
    },
    "tags": []
   },
   "outputs": [],
   "source": [
    "# converting to numpy arrays\n",
    "x_train = x_df.to_numpy()\n",
    "y_train = y_df.to_numpy()"
   ]
  },
  {
   "cell_type": "code",
   "execution_count": 18,
   "id": "730896c4",
   "metadata": {
    "execution": {
     "iopub.execute_input": "2022-03-05T11:15:11.860231Z",
     "iopub.status.busy": "2022-03-05T11:15:11.856542Z",
     "iopub.status.idle": "2022-03-05T11:15:11.876606Z",
     "shell.execute_reply": "2022-03-05T11:15:11.876029Z",
     "shell.execute_reply.started": "2022-03-05T11:09:42.850589Z"
    },
    "papermill": {
     "duration": 0.051451,
     "end_time": "2022-03-05T11:15:11.876762",
     "exception": false,
     "start_time": "2022-03-05T11:15:11.825311",
     "status": "completed"
    },
    "tags": []
   },
   "outputs": [],
   "source": [
    "# train-val-test split\n",
    "x_train, x_test, y_train, y_test = train_test_split( x_train, y_train, test_size=0.15, random_state=42)\n",
    "x_train, x_val, y_train, y_val = train_test_split( x_train, y_train, test_size=0.20, random_state=42)"
   ]
  },
  {
   "cell_type": "code",
   "execution_count": 19,
   "id": "bc0425c5",
   "metadata": {
    "execution": {
     "iopub.execute_input": "2022-03-05T11:15:11.936729Z",
     "iopub.status.busy": "2022-03-05T11:15:11.935875Z",
     "iopub.status.idle": "2022-03-05T11:15:11.938371Z",
     "shell.execute_reply": "2022-03-05T11:15:11.937948Z",
     "shell.execute_reply.started": "2022-03-05T11:09:42.879270Z"
    },
    "papermill": {
     "duration": 0.032404,
     "end_time": "2022-03-05T11:15:11.938475",
     "exception": false,
     "start_time": "2022-03-05T11:15:11.906071",
     "status": "completed"
    },
    "tags": []
   },
   "outputs": [],
   "source": [
    "y_train = y_train.reshape(y_train.shape[0],1)\n",
    "y_test = y_test.reshape(y_test.shape[0],1)\n",
    "y_val = y_val.reshape(y_val.shape[0],1)"
   ]
  },
  {
   "cell_type": "code",
   "execution_count": 20,
   "id": "5eb25d74",
   "metadata": {
    "execution": {
     "iopub.execute_input": "2022-03-05T11:15:11.994010Z",
     "iopub.status.busy": "2022-03-05T11:15:11.993409Z",
     "iopub.status.idle": "2022-03-05T11:15:11.996429Z",
     "shell.execute_reply": "2022-03-05T11:15:11.997027Z",
     "shell.execute_reply.started": "2022-03-05T11:09:42.889519Z"
    },
    "papermill": {
     "duration": 0.03383,
     "end_time": "2022-03-05T11:15:11.997184",
     "exception": false,
     "start_time": "2022-03-05T11:15:11.963354",
     "status": "completed"
    },
    "tags": []
   },
   "outputs": [
    {
     "name": "stdout",
     "output_type": "stream",
     "text": [
      "(30139, 21)\n",
      "(30139, 1)\n",
      "(6649, 21)\n",
      "(6649, 1)\n",
      "(7535, 21)\n",
      "(7535, 1)\n"
     ]
    }
   ],
   "source": [
    "print(x_train.shape)\n",
    "print(y_train.shape)\n",
    "print(x_test.shape)\n",
    "print(y_test.shape)\n",
    "print(x_val.shape)\n",
    "print(y_val.shape)"
   ]
  },
  {
   "cell_type": "code",
   "execution_count": 21,
   "id": "2e56aa0e",
   "metadata": {
    "execution": {
     "iopub.execute_input": "2022-03-05T11:15:12.054498Z",
     "iopub.status.busy": "2022-03-05T11:15:12.054020Z",
     "iopub.status.idle": "2022-03-05T11:15:14.464242Z",
     "shell.execute_reply": "2022-03-05T11:15:14.463810Z",
     "shell.execute_reply.started": "2022-03-05T11:09:42.902685Z"
    },
    "papermill": {
     "duration": 2.440351,
     "end_time": "2022-03-05T11:15:14.464366",
     "exception": false,
     "start_time": "2022-03-05T11:15:12.024015",
     "status": "completed"
    },
    "tags": []
   },
   "outputs": [
    {
     "name": "stderr",
     "output_type": "stream",
     "text": [
      "2022-03-05 11:15:12.124653: I tensorflow/stream_executor/cuda/cuda_gpu_executor.cc:937] successful NUMA node read from SysFS had negative value (-1), but there must be at least one NUMA node, so returning NUMA node zero\n",
      "2022-03-05 11:15:12.222798: I tensorflow/stream_executor/cuda/cuda_gpu_executor.cc:937] successful NUMA node read from SysFS had negative value (-1), but there must be at least one NUMA node, so returning NUMA node zero\n",
      "2022-03-05 11:15:12.223513: I tensorflow/stream_executor/cuda/cuda_gpu_executor.cc:937] successful NUMA node read from SysFS had negative value (-1), but there must be at least one NUMA node, so returning NUMA node zero\n",
      "2022-03-05 11:15:12.225025: I tensorflow/core/platform/cpu_feature_guard.cc:142] This TensorFlow binary is optimized with oneAPI Deep Neural Network Library (oneDNN) to use the following CPU instructions in performance-critical operations:  AVX2 AVX512F FMA\n",
      "To enable them in other operations, rebuild TensorFlow with the appropriate compiler flags.\n",
      "2022-03-05 11:15:12.226096: I tensorflow/stream_executor/cuda/cuda_gpu_executor.cc:937] successful NUMA node read from SysFS had negative value (-1), but there must be at least one NUMA node, so returning NUMA node zero\n",
      "2022-03-05 11:15:12.226999: I tensorflow/stream_executor/cuda/cuda_gpu_executor.cc:937] successful NUMA node read from SysFS had negative value (-1), but there must be at least one NUMA node, so returning NUMA node zero\n",
      "2022-03-05 11:15:12.227884: I tensorflow/stream_executor/cuda/cuda_gpu_executor.cc:937] successful NUMA node read from SysFS had negative value (-1), but there must be at least one NUMA node, so returning NUMA node zero\n",
      "2022-03-05 11:15:14.088674: I tensorflow/stream_executor/cuda/cuda_gpu_executor.cc:937] successful NUMA node read from SysFS had negative value (-1), but there must be at least one NUMA node, so returning NUMA node zero\n",
      "2022-03-05 11:15:14.089483: I tensorflow/stream_executor/cuda/cuda_gpu_executor.cc:937] successful NUMA node read from SysFS had negative value (-1), but there must be at least one NUMA node, so returning NUMA node zero\n",
      "2022-03-05 11:15:14.090241: I tensorflow/stream_executor/cuda/cuda_gpu_executor.cc:937] successful NUMA node read from SysFS had negative value (-1), but there must be at least one NUMA node, so returning NUMA node zero\n",
      "2022-03-05 11:15:14.090832: I tensorflow/core/common_runtime/gpu/gpu_device.cc:1510] Created device /job:localhost/replica:0/task:0/device:GPU:0 with 15403 MB memory:  -> device: 0, name: Tesla P100-PCIE-16GB, pci bus id: 0000:00:04.0, compute capability: 6.0\n"
     ]
    }
   ],
   "source": [
    "# building the model\n",
    "model=Sequential()\n",
    "model.add(Dense(x_train.shape[0],input_dim=x_train.shape[1],activation='relu')) # input layer\n",
    "model.add(Dense(128,activation='relu')) # hidden layers\n",
    "model.add(Dense(256,activation='relu'))\n",
    "model.add(Dense(128,activation='relu'))\n",
    "model.add(Dense(1,activation='sigmoid')) # sigmoid output"
   ]
  },
  {
   "cell_type": "code",
   "execution_count": 22,
   "id": "d945bff4",
   "metadata": {
    "execution": {
     "iopub.execute_input": "2022-03-05T11:15:14.522730Z",
     "iopub.status.busy": "2022-03-05T11:15:14.521953Z",
     "iopub.status.idle": "2022-03-05T11:15:14.825260Z",
     "shell.execute_reply": "2022-03-05T11:15:14.824700Z",
     "shell.execute_reply.started": "2022-03-05T11:09:45.885465Z"
    },
    "papermill": {
     "duration": 0.333921,
     "end_time": "2022-03-05T11:15:14.825391",
     "exception": false,
     "start_time": "2022-03-05T11:15:14.491470",
     "status": "completed"
    },
    "tags": []
   },
   "outputs": [],
   "source": [
    "# setting up the learning scheduler\n",
    "initial_learning_rate =lr\n",
    "lr_schedule = tf.keras.optimizers.schedules.ExponentialDecay(\n",
    "    initial_learning_rate,\n",
    "    decay_steps=n_epochs,\n",
    "    decay_rate=0.96,\n",
    "    staircase=True)"
   ]
  },
  {
   "cell_type": "code",
   "execution_count": 23,
   "id": "08fdc2d4",
   "metadata": {
    "execution": {
     "iopub.execute_input": "2022-03-05T11:15:14.885363Z",
     "iopub.status.busy": "2022-03-05T11:15:14.884575Z",
     "iopub.status.idle": "2022-03-05T11:15:14.899038Z",
     "shell.execute_reply": "2022-03-05T11:15:14.898485Z",
     "shell.execute_reply.started": "2022-03-05T11:09:46.243236Z"
    },
    "papermill": {
     "duration": 0.046557,
     "end_time": "2022-03-05T11:15:14.899150",
     "exception": false,
     "start_time": "2022-03-05T11:15:14.852593",
     "status": "completed"
    },
    "tags": []
   },
   "outputs": [],
   "source": [
    "# compiling the model\n",
    "model.compile(loss='binary_crossentropy', optimizer=tf.keras.optimizers.SGD(learning_rate=lr_schedule), \n",
    "              metrics=[tf.keras.metrics.BinaryAccuracy(threshold=conf),tf.keras.metrics.Recall(), \n",
    "                       get_f1])"
   ]
  },
  {
   "cell_type": "code",
   "execution_count": 24,
   "id": "38c730f8",
   "metadata": {
    "execution": {
     "iopub.execute_input": "2022-03-05T11:15:14.958909Z",
     "iopub.status.busy": "2022-03-05T11:15:14.958316Z",
     "iopub.status.idle": "2022-03-05T11:15:14.961407Z",
     "shell.execute_reply": "2022-03-05T11:15:14.962195Z",
     "shell.execute_reply.started": "2022-03-05T11:09:46.275327Z"
    },
    "papermill": {
     "duration": 0.037359,
     "end_time": "2022-03-05T11:15:14.962315",
     "exception": false,
     "start_time": "2022-03-05T11:15:14.924956",
     "status": "completed"
    },
    "tags": []
   },
   "outputs": [
    {
     "name": "stdout",
     "output_type": "stream",
     "text": [
      "Model: \"sequential\"\n",
      "_________________________________________________________________\n",
      "Layer (type)                 Output Shape              Param #   \n",
      "=================================================================\n",
      "dense (Dense)                (None, 30139)             663058    \n",
      "_________________________________________________________________\n",
      "dense_1 (Dense)              (None, 128)               3857920   \n",
      "_________________________________________________________________\n",
      "dense_2 (Dense)              (None, 256)               33024     \n",
      "_________________________________________________________________\n",
      "dense_3 (Dense)              (None, 128)               32896     \n",
      "_________________________________________________________________\n",
      "dense_4 (Dense)              (None, 1)                 129       \n",
      "=================================================================\n",
      "Total params: 4,587,027\n",
      "Trainable params: 4,587,027\n",
      "Non-trainable params: 0\n",
      "_________________________________________________________________\n"
     ]
    }
   ],
   "source": [
    "model.summary()"
   ]
  },
  {
   "cell_type": "code",
   "execution_count": 25,
   "id": "510f65a0",
   "metadata": {
    "_kg_hide-input": false,
    "execution": {
     "iopub.execute_input": "2022-03-05T11:15:15.019427Z",
     "iopub.status.busy": "2022-03-05T11:15:15.018703Z",
     "iopub.status.idle": "2022-03-05T11:17:37.713548Z",
     "shell.execute_reply": "2022-03-05T11:17:37.713052Z",
     "shell.execute_reply.started": "2022-03-05T11:09:46.290647Z"
    },
    "papermill": {
     "duration": 142.72529,
     "end_time": "2022-03-05T11:17:37.713707",
     "exception": false,
     "start_time": "2022-03-05T11:15:14.988417",
     "status": "completed"
    },
    "tags": []
   },
   "outputs": [
    {
     "name": "stdout",
     "output_type": "stream",
     "text": [
      "Epoch 1/150\n"
     ]
    },
    {
     "name": "stderr",
     "output_type": "stream",
     "text": [
      "2022-03-05 11:15:15.092934: I tensorflow/compiler/mlir/mlir_graph_optimization_pass.cc:185] None of the MLIR Optimization Passes are enabled (registered 2)\n"
     ]
    },
    {
     "name": "stdout",
     "output_type": "stream",
     "text": [
      "118/118 [==============================] - 3s 9ms/step - loss: 0.6752 - binary_accuracy: 0.6105 - recall: 0.9780 - get_f1: 0.7292 - val_loss: 0.6552 - val_binary_accuracy: 0.6644 - val_recall: 0.9628 - val_get_f1: 0.7545\n",
      "Epoch 2/150\n",
      "118/118 [==============================] - 1s 8ms/step - loss: 0.6392 - binary_accuracy: 0.6976 - recall: 0.9208 - get_f1: 0.7652 - val_loss: 0.6170 - val_binary_accuracy: 0.7246 - val_recall: 0.9013 - val_get_f1: 0.7770\n",
      "Epoch 3/150\n",
      "118/118 [==============================] - 1s 7ms/step - loss: 0.6046 - binary_accuracy: 0.7221 - recall: 0.8681 - get_f1: 0.7692 - val_loss: 0.5829 - val_binary_accuracy: 0.7379 - val_recall: 0.8596 - val_get_f1: 0.7775\n",
      "Epoch 4/150\n",
      "118/118 [==============================] - 1s 7ms/step - loss: 0.5759 - binary_accuracy: 0.7306 - recall: 0.8346 - get_f1: 0.7677 - val_loss: 0.5569 - val_binary_accuracy: 0.7439 - val_recall: 0.8387 - val_get_f1: 0.7769\n",
      "Epoch 5/150\n",
      "118/118 [==============================] - 1s 6ms/step - loss: 0.5548 - binary_accuracy: 0.7362 - recall: 0.8189 - get_f1: 0.7679 - val_loss: 0.5391 - val_binary_accuracy: 0.7486 - val_recall: 0.8162 - val_get_f1: 0.7758\n",
      "Epoch 6/150\n",
      "118/118 [==============================] - 1s 7ms/step - loss: 0.5401 - binary_accuracy: 0.7424 - recall: 0.8130 - get_f1: 0.7712 - val_loss: 0.5276 - val_binary_accuracy: 0.7521 - val_recall: 0.8022 - val_get_f1: 0.7758\n",
      "Epoch 7/150\n",
      "118/118 [==============================] - 1s 7ms/step - loss: 0.5300 - binary_accuracy: 0.7452 - recall: 0.8097 - get_f1: 0.7725 - val_loss: 0.5191 - val_binary_accuracy: 0.7541 - val_recall: 0.8135 - val_get_f1: 0.7794\n",
      "Epoch 8/150\n",
      "118/118 [==============================] - 1s 7ms/step - loss: 0.5229 - binary_accuracy: 0.7487 - recall: 0.8108 - get_f1: 0.7754 - val_loss: 0.5133 - val_binary_accuracy: 0.7577 - val_recall: 0.8283 - val_get_f1: 0.7847\n",
      "Epoch 9/150\n",
      "118/118 [==============================] - 1s 7ms/step - loss: 0.5176 - binary_accuracy: 0.7518 - recall: 0.8126 - get_f1: 0.7773 - val_loss: 0.5090 - val_binary_accuracy: 0.7607 - val_recall: 0.8224 - val_get_f1: 0.7858\n",
      "Epoch 10/150\n",
      "118/118 [==============================] - 1s 7ms/step - loss: 0.5133 - binary_accuracy: 0.7528 - recall: 0.8127 - get_f1: 0.7783 - val_loss: 0.5057 - val_binary_accuracy: 0.7614 - val_recall: 0.8217 - val_get_f1: 0.7861\n",
      "Epoch 11/150\n",
      "118/118 [==============================] - 1s 7ms/step - loss: 0.5102 - binary_accuracy: 0.7554 - recall: 0.8157 - get_f1: 0.7804 - val_loss: 0.5030 - val_binary_accuracy: 0.7616 - val_recall: 0.8268 - val_get_f1: 0.7872\n",
      "Epoch 12/150\n",
      "118/118 [==============================] - 1s 7ms/step - loss: 0.5073 - binary_accuracy: 0.7567 - recall: 0.8170 - get_f1: 0.7819 - val_loss: 0.5012 - val_binary_accuracy: 0.7634 - val_recall: 0.8357 - val_get_f1: 0.7901\n",
      "Epoch 13/150\n",
      "118/118 [==============================] - 1s 7ms/step - loss: 0.5052 - binary_accuracy: 0.7593 - recall: 0.8200 - get_f1: 0.7842 - val_loss: 0.4993 - val_binary_accuracy: 0.7646 - val_recall: 0.8360 - val_get_f1: 0.7909\n",
      "Epoch 14/150\n",
      "118/118 [==============================] - 1s 7ms/step - loss: 0.5035 - binary_accuracy: 0.7592 - recall: 0.8199 - get_f1: 0.7842 - val_loss: 0.4978 - val_binary_accuracy: 0.7643 - val_recall: 0.8170 - val_get_f1: 0.7872\n",
      "Epoch 15/150\n",
      "118/118 [==============================] - 1s 7ms/step - loss: 0.5021 - binary_accuracy: 0.7602 - recall: 0.8210 - get_f1: 0.7854 - val_loss: 0.4974 - val_binary_accuracy: 0.7667 - val_recall: 0.8046 - val_get_f1: 0.7864\n",
      "Epoch 16/150\n",
      "118/118 [==============================] - 1s 8ms/step - loss: 0.5009 - binary_accuracy: 0.7612 - recall: 0.8215 - get_f1: 0.7862 - val_loss: 0.4961 - val_binary_accuracy: 0.7647 - val_recall: 0.8394 - val_get_f1: 0.7918\n",
      "Epoch 17/150\n",
      "118/118 [==============================] - 1s 7ms/step - loss: 0.5000 - binary_accuracy: 0.7620 - recall: 0.8248 - get_f1: 0.7875 - val_loss: 0.4953 - val_binary_accuracy: 0.7679 - val_recall: 0.8106 - val_get_f1: 0.7883\n",
      "Epoch 18/150\n",
      "118/118 [==============================] - 1s 7ms/step - loss: 0.4991 - binary_accuracy: 0.7630 - recall: 0.8234 - get_f1: 0.7877 - val_loss: 0.4943 - val_binary_accuracy: 0.7679 - val_recall: 0.8370 - val_get_f1: 0.7939\n",
      "Epoch 19/150\n",
      "118/118 [==============================] - 1s 7ms/step - loss: 0.4984 - binary_accuracy: 0.7632 - recall: 0.8252 - get_f1: 0.7883 - val_loss: 0.4938 - val_binary_accuracy: 0.7676 - val_recall: 0.8303 - val_get_f1: 0.7920\n",
      "Epoch 20/150\n",
      "118/118 [==============================] - 1s 7ms/step - loss: 0.4979 - binary_accuracy: 0.7642 - recall: 0.8267 - get_f1: 0.7894 - val_loss: 0.4932 - val_binary_accuracy: 0.7689 - val_recall: 0.8298 - val_get_f1: 0.7928\n",
      "Epoch 21/150\n",
      "118/118 [==============================] - 1s 7ms/step - loss: 0.4974 - binary_accuracy: 0.7647 - recall: 0.8279 - get_f1: 0.7895 - val_loss: 0.4928 - val_binary_accuracy: 0.7679 - val_recall: 0.8212 - val_get_f1: 0.7901\n",
      "Epoch 22/150\n",
      "118/118 [==============================] - 1s 7ms/step - loss: 0.4970 - binary_accuracy: 0.7648 - recall: 0.8271 - get_f1: 0.7898 - val_loss: 0.4929 - val_binary_accuracy: 0.7689 - val_recall: 0.8426 - val_get_f1: 0.7954\n",
      "Epoch 23/150\n",
      "118/118 [==============================] - 1s 7ms/step - loss: 0.4967 - binary_accuracy: 0.7648 - recall: 0.8286 - get_f1: 0.7901 - val_loss: 0.4923 - val_binary_accuracy: 0.7699 - val_recall: 0.8370 - val_get_f1: 0.7951\n",
      "Epoch 24/150\n",
      "118/118 [==============================] - 1s 7ms/step - loss: 0.4961 - binary_accuracy: 0.7646 - recall: 0.8282 - get_f1: 0.7897 - val_loss: 0.4927 - val_binary_accuracy: 0.7675 - val_recall: 0.8120 - val_get_f1: 0.7880\n",
      "Epoch 25/150\n",
      "118/118 [==============================] - 1s 7ms/step - loss: 0.4958 - binary_accuracy: 0.7645 - recall: 0.8268 - get_f1: 0.7896 - val_loss: 0.4919 - val_binary_accuracy: 0.7688 - val_recall: 0.8256 - val_get_f1: 0.7920\n",
      "Epoch 26/150\n",
      "118/118 [==============================] - 1s 7ms/step - loss: 0.4956 - binary_accuracy: 0.7658 - recall: 0.8297 - get_f1: 0.7911 - val_loss: 0.4916 - val_binary_accuracy: 0.7697 - val_recall: 0.8305 - val_get_f1: 0.7937\n",
      "Epoch 27/150\n",
      "118/118 [==============================] - 1s 7ms/step - loss: 0.4954 - binary_accuracy: 0.7651 - recall: 0.8289 - get_f1: 0.7902 - val_loss: 0.4930 - val_binary_accuracy: 0.7679 - val_recall: 0.8557 - val_get_f1: 0.7973\n",
      "Epoch 28/150\n",
      "118/118 [==============================] - 1s 7ms/step - loss: 0.4951 - binary_accuracy: 0.7646 - recall: 0.8293 - get_f1: 0.7902 - val_loss: 0.4914 - val_binary_accuracy: 0.7700 - val_recall: 0.8365 - val_get_f1: 0.7951\n",
      "Epoch 29/150\n",
      "118/118 [==============================] - 1s 6ms/step - loss: 0.4948 - binary_accuracy: 0.7662 - recall: 0.8300 - get_f1: 0.7913 - val_loss: 0.4912 - val_binary_accuracy: 0.7701 - val_recall: 0.8357 - val_get_f1: 0.7950\n",
      "Epoch 30/150\n",
      "118/118 [==============================] - 1s 8ms/step - loss: 0.4947 - binary_accuracy: 0.7654 - recall: 0.8303 - get_f1: 0.7906 - val_loss: 0.4911 - val_binary_accuracy: 0.7700 - val_recall: 0.8303 - val_get_f1: 0.7937\n",
      "Epoch 31/150\n",
      "118/118 [==============================] - 1s 7ms/step - loss: 0.4945 - binary_accuracy: 0.7666 - recall: 0.8317 - get_f1: 0.7921 - val_loss: 0.4912 - val_binary_accuracy: 0.7683 - val_recall: 0.8219 - val_get_f1: 0.7908\n",
      "Epoch 32/150\n",
      "118/118 [==============================] - 1s 7ms/step - loss: 0.4943 - binary_accuracy: 0.7660 - recall: 0.8307 - get_f1: 0.7913 - val_loss: 0.4910 - val_binary_accuracy: 0.7701 - val_recall: 0.8397 - val_get_f1: 0.7956\n",
      "Epoch 33/150\n",
      "118/118 [==============================] - 1s 7ms/step - loss: 0.4941 - binary_accuracy: 0.7666 - recall: 0.8326 - get_f1: 0.7922 - val_loss: 0.4915 - val_binary_accuracy: 0.7674 - val_recall: 0.8128 - val_get_f1: 0.7880\n",
      "Epoch 34/150\n",
      "118/118 [==============================] - 1s 7ms/step - loss: 0.4940 - binary_accuracy: 0.7655 - recall: 0.8283 - get_f1: 0.7904 - val_loss: 0.4909 - val_binary_accuracy: 0.7704 - val_recall: 0.8419 - val_get_f1: 0.7964\n",
      "Epoch 35/150\n",
      "118/118 [==============================] - 1s 7ms/step - loss: 0.4938 - binary_accuracy: 0.7656 - recall: 0.8313 - get_f1: 0.7908 - val_loss: 0.4907 - val_binary_accuracy: 0.7699 - val_recall: 0.8308 - val_get_f1: 0.7936\n",
      "Epoch 36/150\n",
      "118/118 [==============================] - 1s 8ms/step - loss: 0.4937 - binary_accuracy: 0.7662 - recall: 0.8305 - get_f1: 0.7914 - val_loss: 0.4907 - val_binary_accuracy: 0.7703 - val_recall: 0.8421 - val_get_f1: 0.7964\n",
      "Epoch 37/150\n",
      "118/118 [==============================] - 1s 9ms/step - loss: 0.4936 - binary_accuracy: 0.7662 - recall: 0.8302 - get_f1: 0.7913 - val_loss: 0.4907 - val_binary_accuracy: 0.7704 - val_recall: 0.8453 - val_get_f1: 0.7971\n",
      "Epoch 38/150\n",
      "118/118 [==============================] - 1s 7ms/step - loss: 0.4935 - binary_accuracy: 0.7661 - recall: 0.8312 - get_f1: 0.7915 - val_loss: 0.4904 - val_binary_accuracy: 0.7701 - val_recall: 0.8320 - val_get_f1: 0.7942\n",
      "Epoch 39/150\n",
      "118/118 [==============================] - 1s 7ms/step - loss: 0.4934 - binary_accuracy: 0.7665 - recall: 0.8318 - get_f1: 0.7920 - val_loss: 0.4904 - val_binary_accuracy: 0.7701 - val_recall: 0.8283 - val_get_f1: 0.7933\n",
      "Epoch 40/150\n",
      "118/118 [==============================] - 1s 7ms/step - loss: 0.4933 - binary_accuracy: 0.7666 - recall: 0.8315 - get_f1: 0.7921 - val_loss: 0.4903 - val_binary_accuracy: 0.7703 - val_recall: 0.8303 - val_get_f1: 0.7938\n",
      "Epoch 41/150\n",
      "118/118 [==============================] - 1s 7ms/step - loss: 0.4932 - binary_accuracy: 0.7662 - recall: 0.8305 - get_f1: 0.7914 - val_loss: 0.4906 - val_binary_accuracy: 0.7705 - val_recall: 0.8456 - val_get_f1: 0.7972\n",
      "Epoch 42/150\n",
      "118/118 [==============================] - 1s 7ms/step - loss: 0.4931 - binary_accuracy: 0.7658 - recall: 0.8324 - get_f1: 0.7915 - val_loss: 0.4902 - val_binary_accuracy: 0.7701 - val_recall: 0.8298 - val_get_f1: 0.7938\n",
      "Epoch 43/150\n",
      "118/118 [==============================] - 1s 8ms/step - loss: 0.4931 - binary_accuracy: 0.7667 - recall: 0.8314 - get_f1: 0.7919 - val_loss: 0.4904 - val_binary_accuracy: 0.7701 - val_recall: 0.8451 - val_get_f1: 0.7969\n",
      "Epoch 44/150\n",
      "118/118 [==============================] - 1s 7ms/step - loss: 0.4929 - binary_accuracy: 0.7659 - recall: 0.8319 - get_f1: 0.7915 - val_loss: 0.4901 - val_binary_accuracy: 0.7707 - val_recall: 0.8342 - val_get_f1: 0.7950\n",
      "Epoch 45/150\n",
      "118/118 [==============================] - 1s 7ms/step - loss: 0.4928 - binary_accuracy: 0.7662 - recall: 0.8320 - get_f1: 0.7919 - val_loss: 0.4902 - val_binary_accuracy: 0.7704 - val_recall: 0.8298 - val_get_f1: 0.7940\n",
      "Epoch 46/150\n",
      "118/118 [==============================] - 1s 7ms/step - loss: 0.4928 - binary_accuracy: 0.7661 - recall: 0.8304 - get_f1: 0.7912 - val_loss: 0.4906 - val_binary_accuracy: 0.7696 - val_recall: 0.8483 - val_get_f1: 0.7970\n",
      "Epoch 47/150\n",
      "118/118 [==============================] - 1s 7ms/step - loss: 0.4927 - binary_accuracy: 0.7670 - recall: 0.8338 - get_f1: 0.7927 - val_loss: 0.4901 - val_binary_accuracy: 0.7704 - val_recall: 0.8303 - val_get_f1: 0.7940\n",
      "Epoch 48/150\n",
      "118/118 [==============================] - 1s 7ms/step - loss: 0.4927 - binary_accuracy: 0.7664 - recall: 0.8312 - get_f1: 0.7918 - val_loss: 0.4900 - val_binary_accuracy: 0.7704 - val_recall: 0.8335 - val_get_f1: 0.7947\n",
      "Epoch 49/150\n",
      "118/118 [==============================] - 1s 7ms/step - loss: 0.4926 - binary_accuracy: 0.7663 - recall: 0.8315 - get_f1: 0.7916 - val_loss: 0.4901 - val_binary_accuracy: 0.7709 - val_recall: 0.8382 - val_get_f1: 0.7959\n",
      "Epoch 50/150\n",
      "118/118 [==============================] - 1s 7ms/step - loss: 0.4925 - binary_accuracy: 0.7668 - recall: 0.8318 - get_f1: 0.7919 - val_loss: 0.4902 - val_binary_accuracy: 0.7712 - val_recall: 0.8434 - val_get_f1: 0.7973\n",
      "Epoch 51/150\n",
      "118/118 [==============================] - 1s 7ms/step - loss: 0.4926 - binary_accuracy: 0.7665 - recall: 0.8321 - get_f1: 0.7917 - val_loss: 0.4900 - val_binary_accuracy: 0.7709 - val_recall: 0.8330 - val_get_f1: 0.7949\n",
      "Epoch 52/150\n",
      "118/118 [==============================] - 1s 7ms/step - loss: 0.4924 - binary_accuracy: 0.7667 - recall: 0.8322 - get_f1: 0.7923 - val_loss: 0.4900 - val_binary_accuracy: 0.7709 - val_recall: 0.8347 - val_get_f1: 0.7953\n",
      "Epoch 53/150\n",
      "118/118 [==============================] - 1s 7ms/step - loss: 0.4924 - binary_accuracy: 0.7667 - recall: 0.8328 - get_f1: 0.7924 - val_loss: 0.4900 - val_binary_accuracy: 0.7689 - val_recall: 0.8259 - val_get_f1: 0.7921\n",
      "Epoch 54/150\n",
      "118/118 [==============================] - 1s 7ms/step - loss: 0.4924 - binary_accuracy: 0.7664 - recall: 0.8311 - get_f1: 0.7915 - val_loss: 0.4899 - val_binary_accuracy: 0.7712 - val_recall: 0.8342 - val_get_f1: 0.7954\n",
      "Epoch 55/150\n",
      "118/118 [==============================] - 1s 7ms/step - loss: 0.4923 - binary_accuracy: 0.7665 - recall: 0.8318 - get_f1: 0.7921 - val_loss: 0.4899 - val_binary_accuracy: 0.7708 - val_recall: 0.8330 - val_get_f1: 0.7948\n",
      "Epoch 56/150\n",
      "118/118 [==============================] - 1s 7ms/step - loss: 0.4923 - binary_accuracy: 0.7669 - recall: 0.8314 - get_f1: 0.7918 - val_loss: 0.4900 - val_binary_accuracy: 0.7705 - val_recall: 0.8402 - val_get_f1: 0.7961\n",
      "Epoch 57/150\n",
      "118/118 [==============================] - 1s 8ms/step - loss: 0.4922 - binary_accuracy: 0.7670 - recall: 0.8346 - get_f1: 0.7927 - val_loss: 0.4902 - val_binary_accuracy: 0.7684 - val_recall: 0.8199 - val_get_f1: 0.7906\n",
      "Epoch 58/150\n",
      "118/118 [==============================] - 1s 7ms/step - loss: 0.4921 - binary_accuracy: 0.7665 - recall: 0.8296 - get_f1: 0.7915 - val_loss: 0.4902 - val_binary_accuracy: 0.7704 - val_recall: 0.8466 - val_get_f1: 0.7973\n",
      "Epoch 59/150\n",
      "118/118 [==============================] - 1s 7ms/step - loss: 0.4921 - binary_accuracy: 0.7662 - recall: 0.8325 - get_f1: 0.7919 - val_loss: 0.4898 - val_binary_accuracy: 0.7708 - val_recall: 0.8377 - val_get_f1: 0.7957\n",
      "Epoch 60/150\n",
      "118/118 [==============================] - 1s 7ms/step - loss: 0.4921 - binary_accuracy: 0.7668 - recall: 0.8329 - get_f1: 0.7925 - val_loss: 0.4898 - val_binary_accuracy: 0.7712 - val_recall: 0.8342 - val_get_f1: 0.7953\n",
      "Epoch 61/150\n",
      "118/118 [==============================] - 1s 7ms/step - loss: 0.4921 - binary_accuracy: 0.7666 - recall: 0.8309 - get_f1: 0.7916 - val_loss: 0.4898 - val_binary_accuracy: 0.7707 - val_recall: 0.8379 - val_get_f1: 0.7956\n",
      "Epoch 62/150\n",
      "118/118 [==============================] - 1s 7ms/step - loss: 0.4920 - binary_accuracy: 0.7666 - recall: 0.8330 - get_f1: 0.7921 - val_loss: 0.4898 - val_binary_accuracy: 0.7707 - val_recall: 0.8315 - val_get_f1: 0.7945\n",
      "Epoch 63/150\n",
      "118/118 [==============================] - 1s 7ms/step - loss: 0.4920 - binary_accuracy: 0.7672 - recall: 0.8331 - get_f1: 0.7919 - val_loss: 0.4898 - val_binary_accuracy: 0.7712 - val_recall: 0.8335 - val_get_f1: 0.7952\n",
      "Epoch 64/150\n",
      "118/118 [==============================] - 1s 7ms/step - loss: 0.4919 - binary_accuracy: 0.7671 - recall: 0.8323 - get_f1: 0.7925 - val_loss: 0.4898 - val_binary_accuracy: 0.7715 - val_recall: 0.8352 - val_get_f1: 0.7957\n",
      "Epoch 65/150\n",
      "118/118 [==============================] - 1s 7ms/step - loss: 0.4920 - binary_accuracy: 0.7667 - recall: 0.8321 - get_f1: 0.7917 - val_loss: 0.4898 - val_binary_accuracy: 0.7709 - val_recall: 0.8342 - val_get_f1: 0.7952\n",
      "Epoch 66/150\n",
      "118/118 [==============================] - 1s 7ms/step - loss: 0.4919 - binary_accuracy: 0.7665 - recall: 0.8324 - get_f1: 0.7919 - val_loss: 0.4898 - val_binary_accuracy: 0.7704 - val_recall: 0.8377 - val_get_f1: 0.7954\n",
      "Epoch 67/150\n",
      "118/118 [==============================] - 1s 7ms/step - loss: 0.4919 - binary_accuracy: 0.7668 - recall: 0.8329 - get_f1: 0.7924 - val_loss: 0.4898 - val_binary_accuracy: 0.7712 - val_recall: 0.8335 - val_get_f1: 0.7952\n",
      "Epoch 68/150\n",
      "118/118 [==============================] - 1s 7ms/step - loss: 0.4918 - binary_accuracy: 0.7671 - recall: 0.8320 - get_f1: 0.7922 - val_loss: 0.4897 - val_binary_accuracy: 0.7705 - val_recall: 0.8345 - val_get_f1: 0.7950\n",
      "Epoch 69/150\n",
      "118/118 [==============================] - 1s 7ms/step - loss: 0.4918 - binary_accuracy: 0.7670 - recall: 0.8330 - get_f1: 0.7925 - val_loss: 0.4899 - val_binary_accuracy: 0.7685 - val_recall: 0.8256 - val_get_f1: 0.7918\n",
      "Epoch 70/150\n",
      "118/118 [==============================] - 1s 7ms/step - loss: 0.4917 - binary_accuracy: 0.7674 - recall: 0.8316 - get_f1: 0.7923 - val_loss: 0.4897 - val_binary_accuracy: 0.7709 - val_recall: 0.8342 - val_get_f1: 0.7952\n",
      "Epoch 71/150\n",
      "118/118 [==============================] - 1s 8ms/step - loss: 0.4918 - binary_accuracy: 0.7666 - recall: 0.8322 - get_f1: 0.7920 - val_loss: 0.4898 - val_binary_accuracy: 0.7703 - val_recall: 0.8300 - val_get_f1: 0.7939\n",
      "Epoch 72/150\n",
      "118/118 [==============================] - 1s 7ms/step - loss: 0.4917 - binary_accuracy: 0.7669 - recall: 0.8323 - get_f1: 0.7924 - val_loss: 0.4897 - val_binary_accuracy: 0.7705 - val_recall: 0.8308 - val_get_f1: 0.7942\n",
      "Epoch 73/150\n",
      "118/118 [==============================] - 1s 7ms/step - loss: 0.4917 - binary_accuracy: 0.7673 - recall: 0.8311 - get_f1: 0.7922 - val_loss: 0.4898 - val_binary_accuracy: 0.7709 - val_recall: 0.8407 - val_get_f1: 0.7964\n",
      "Epoch 74/150\n",
      "118/118 [==============================] - 1s 8ms/step - loss: 0.4917 - binary_accuracy: 0.7672 - recall: 0.8341 - get_f1: 0.7929 - val_loss: 0.4897 - val_binary_accuracy: 0.7705 - val_recall: 0.8310 - val_get_f1: 0.7943\n",
      "Epoch 75/150\n",
      "118/118 [==============================] - 1s 7ms/step - loss: 0.4917 - binary_accuracy: 0.7663 - recall: 0.8314 - get_f1: 0.7915 - val_loss: 0.4897 - val_binary_accuracy: 0.7707 - val_recall: 0.8325 - val_get_f1: 0.7947\n",
      "Epoch 76/150\n",
      "118/118 [==============================] - 1s 7ms/step - loss: 0.4916 - binary_accuracy: 0.7672 - recall: 0.8321 - get_f1: 0.7925 - val_loss: 0.4897 - val_binary_accuracy: 0.7699 - val_recall: 0.8357 - val_get_f1: 0.7948\n",
      "Epoch 77/150\n",
      "118/118 [==============================] - 1s 7ms/step - loss: 0.4916 - binary_accuracy: 0.7670 - recall: 0.8330 - get_f1: 0.7926 - val_loss: 0.4897 - val_binary_accuracy: 0.7707 - val_recall: 0.8330 - val_get_f1: 0.7948\n",
      "Epoch 78/150\n",
      "118/118 [==============================] - 1s 9ms/step - loss: 0.4916 - binary_accuracy: 0.7668 - recall: 0.8303 - get_f1: 0.7918 - val_loss: 0.4898 - val_binary_accuracy: 0.7713 - val_recall: 0.8414 - val_get_f1: 0.7968\n",
      "Epoch 79/150\n",
      "118/118 [==============================] - 1s 8ms/step - loss: 0.4916 - binary_accuracy: 0.7673 - recall: 0.8328 - get_f1: 0.7926 - val_loss: 0.4897 - val_binary_accuracy: 0.7707 - val_recall: 0.8397 - val_get_f1: 0.7958\n",
      "Epoch 80/150\n",
      "118/118 [==============================] - 1s 7ms/step - loss: 0.4916 - binary_accuracy: 0.7673 - recall: 0.8324 - get_f1: 0.7922 - val_loss: 0.4899 - val_binary_accuracy: 0.7711 - val_recall: 0.8446 - val_get_f1: 0.7973\n",
      "Epoch 81/150\n",
      "118/118 [==============================] - 1s 7ms/step - loss: 0.4916 - binary_accuracy: 0.7676 - recall: 0.8339 - get_f1: 0.7930 - val_loss: 0.4897 - val_binary_accuracy: 0.7713 - val_recall: 0.8414 - val_get_f1: 0.7968\n",
      "Epoch 82/150\n",
      "118/118 [==============================] - 1s 7ms/step - loss: 0.4916 - binary_accuracy: 0.7675 - recall: 0.8345 - get_f1: 0.7932 - val_loss: 0.4896 - val_binary_accuracy: 0.7705 - val_recall: 0.8337 - val_get_f1: 0.7948\n",
      "Epoch 83/150\n",
      "118/118 [==============================] - 1s 7ms/step - loss: 0.4915 - binary_accuracy: 0.7669 - recall: 0.8322 - get_f1: 0.7921 - val_loss: 0.4896 - val_binary_accuracy: 0.7704 - val_recall: 0.8337 - val_get_f1: 0.7947\n",
      "Epoch 84/150\n",
      "118/118 [==============================] - 1s 8ms/step - loss: 0.4914 - binary_accuracy: 0.7670 - recall: 0.8297 - get_f1: 0.7918 - val_loss: 0.4898 - val_binary_accuracy: 0.7711 - val_recall: 0.8439 - val_get_f1: 0.7971\n",
      "Epoch 85/150\n",
      "118/118 [==============================] - 1s 7ms/step - loss: 0.4915 - binary_accuracy: 0.7674 - recall: 0.8351 - get_f1: 0.7928 - val_loss: 0.4896 - val_binary_accuracy: 0.7704 - val_recall: 0.8323 - val_get_f1: 0.7945\n",
      "Epoch 86/150\n",
      "118/118 [==============================] - 1s 7ms/step - loss: 0.4915 - binary_accuracy: 0.7672 - recall: 0.8322 - get_f1: 0.7925 - val_loss: 0.4896 - val_binary_accuracy: 0.7703 - val_recall: 0.8335 - val_get_f1: 0.7946\n",
      "Epoch 87/150\n",
      "118/118 [==============================] - 1s 6ms/step - loss: 0.4914 - binary_accuracy: 0.7671 - recall: 0.8324 - get_f1: 0.7924 - val_loss: 0.4896 - val_binary_accuracy: 0.7703 - val_recall: 0.8337 - val_get_f1: 0.7946\n",
      "Epoch 88/150\n",
      "118/118 [==============================] - 1s 7ms/step - loss: 0.4914 - binary_accuracy: 0.7671 - recall: 0.8315 - get_f1: 0.7923 - val_loss: 0.4897 - val_binary_accuracy: 0.7700 - val_recall: 0.8382 - val_get_f1: 0.7951\n",
      "Epoch 89/150\n",
      "118/118 [==============================] - 1s 7ms/step - loss: 0.4914 - binary_accuracy: 0.7674 - recall: 0.8342 - get_f1: 0.7930 - val_loss: 0.4896 - val_binary_accuracy: 0.7700 - val_recall: 0.8330 - val_get_f1: 0.7943\n",
      "Epoch 90/150\n",
      "118/118 [==============================] - 1s 7ms/step - loss: 0.4914 - binary_accuracy: 0.7673 - recall: 0.8326 - get_f1: 0.7927 - val_loss: 0.4896 - val_binary_accuracy: 0.7701 - val_recall: 0.8337 - val_get_f1: 0.7945\n",
      "Epoch 91/150\n",
      "118/118 [==============================] - 1s 7ms/step - loss: 0.4914 - binary_accuracy: 0.7673 - recall: 0.8314 - get_f1: 0.7922 - val_loss: 0.4896 - val_binary_accuracy: 0.7697 - val_recall: 0.8377 - val_get_f1: 0.7949\n",
      "Epoch 92/150\n",
      "118/118 [==============================] - 1s 7ms/step - loss: 0.4914 - binary_accuracy: 0.7672 - recall: 0.8343 - get_f1: 0.7929 - val_loss: 0.4896 - val_binary_accuracy: 0.7701 - val_recall: 0.8315 - val_get_f1: 0.7941\n",
      "Epoch 93/150\n",
      "118/118 [==============================] - 1s 7ms/step - loss: 0.4914 - binary_accuracy: 0.7670 - recall: 0.8321 - get_f1: 0.7923 - val_loss: 0.4896 - val_binary_accuracy: 0.7701 - val_recall: 0.8318 - val_get_f1: 0.7942\n",
      "Epoch 94/150\n",
      "118/118 [==============================] - 1s 7ms/step - loss: 0.4914 - binary_accuracy: 0.7675 - recall: 0.8317 - get_f1: 0.7923 - val_loss: 0.4896 - val_binary_accuracy: 0.7696 - val_recall: 0.8367 - val_get_f1: 0.7946\n",
      "Epoch 95/150\n",
      "118/118 [==============================] - 1s 7ms/step - loss: 0.4914 - binary_accuracy: 0.7673 - recall: 0.8338 - get_f1: 0.7927 - val_loss: 0.4896 - val_binary_accuracy: 0.7699 - val_recall: 0.8320 - val_get_f1: 0.7940\n",
      "Epoch 96/150\n",
      "118/118 [==============================] - 1s 7ms/step - loss: 0.4914 - binary_accuracy: 0.7672 - recall: 0.8323 - get_f1: 0.7924 - val_loss: 0.4896 - val_binary_accuracy: 0.7696 - val_recall: 0.8345 - val_get_f1: 0.7943\n",
      "Epoch 97/150\n",
      "118/118 [==============================] - 1s 7ms/step - loss: 0.4913 - binary_accuracy: 0.7674 - recall: 0.8317 - get_f1: 0.7923 - val_loss: 0.4896 - val_binary_accuracy: 0.7697 - val_recall: 0.8370 - val_get_f1: 0.7947\n",
      "Epoch 98/150\n",
      "118/118 [==============================] - 1s 8ms/step - loss: 0.4913 - binary_accuracy: 0.7675 - recall: 0.8339 - get_f1: 0.7928 - val_loss: 0.4896 - val_binary_accuracy: 0.7700 - val_recall: 0.8328 - val_get_f1: 0.7943\n",
      "Epoch 99/150\n",
      "118/118 [==============================] - 1s 7ms/step - loss: 0.4913 - binary_accuracy: 0.7671 - recall: 0.8326 - get_f1: 0.7926 - val_loss: 0.4896 - val_binary_accuracy: 0.7700 - val_recall: 0.8320 - val_get_f1: 0.7941\n",
      "Epoch 100/150\n",
      "118/118 [==============================] - 1s 7ms/step - loss: 0.4913 - binary_accuracy: 0.7671 - recall: 0.8328 - get_f1: 0.7926 - val_loss: 0.4896 - val_binary_accuracy: 0.7700 - val_recall: 0.8313 - val_get_f1: 0.7940\n",
      "Epoch 101/150\n",
      "118/118 [==============================] - 1s 7ms/step - loss: 0.4913 - binary_accuracy: 0.7670 - recall: 0.8303 - get_f1: 0.7918 - val_loss: 0.4896 - val_binary_accuracy: 0.7699 - val_recall: 0.8372 - val_get_f1: 0.7949\n",
      "Epoch 102/150\n",
      "118/118 [==============================] - 1s 7ms/step - loss: 0.4913 - binary_accuracy: 0.7672 - recall: 0.8332 - get_f1: 0.7928 - val_loss: 0.4896 - val_binary_accuracy: 0.7697 - val_recall: 0.8357 - val_get_f1: 0.7946\n",
      "Epoch 103/150\n",
      "118/118 [==============================] - 1s 6ms/step - loss: 0.4913 - binary_accuracy: 0.7671 - recall: 0.8321 - get_f1: 0.7925 - val_loss: 0.4896 - val_binary_accuracy: 0.7695 - val_recall: 0.8360 - val_get_f1: 0.7944\n",
      "Epoch 104/150\n",
      "118/118 [==============================] - 1s 7ms/step - loss: 0.4913 - binary_accuracy: 0.7677 - recall: 0.8337 - get_f1: 0.7930 - val_loss: 0.4896 - val_binary_accuracy: 0.7697 - val_recall: 0.8325 - val_get_f1: 0.7940\n",
      "Epoch 105/150\n",
      "118/118 [==============================] - 1s 7ms/step - loss: 0.4913 - binary_accuracy: 0.7672 - recall: 0.8317 - get_f1: 0.7921 - val_loss: 0.4896 - val_binary_accuracy: 0.7696 - val_recall: 0.8362 - val_get_f1: 0.7946\n",
      "Epoch 106/150\n",
      "118/118 [==============================] - 1s 7ms/step - loss: 0.4913 - binary_accuracy: 0.7675 - recall: 0.8333 - get_f1: 0.7929 - val_loss: 0.4896 - val_binary_accuracy: 0.7697 - val_recall: 0.8352 - val_get_f1: 0.7946\n",
      "Epoch 107/150\n",
      "118/118 [==============================] - 1s 7ms/step - loss: 0.4913 - binary_accuracy: 0.7672 - recall: 0.8324 - get_f1: 0.7926 - val_loss: 0.4896 - val_binary_accuracy: 0.7697 - val_recall: 0.8360 - val_get_f1: 0.7946\n",
      "Epoch 108/150\n",
      "118/118 [==============================] - 1s 7ms/step - loss: 0.4913 - binary_accuracy: 0.7671 - recall: 0.8332 - get_f1: 0.7926 - val_loss: 0.4896 - val_binary_accuracy: 0.7695 - val_recall: 0.8337 - val_get_f1: 0.7941\n",
      "Epoch 109/150\n",
      "118/118 [==============================] - 1s 6ms/step - loss: 0.4913 - binary_accuracy: 0.7673 - recall: 0.8325 - get_f1: 0.7927 - val_loss: 0.4896 - val_binary_accuracy: 0.7695 - val_recall: 0.8345 - val_get_f1: 0.7942\n",
      "Epoch 110/150\n",
      "118/118 [==============================] - 1s 7ms/step - loss: 0.4913 - binary_accuracy: 0.7672 - recall: 0.8317 - get_f1: 0.7923 - val_loss: 0.4896 - val_binary_accuracy: 0.7697 - val_recall: 0.8360 - val_get_f1: 0.7946\n",
      "Epoch 111/150\n",
      "118/118 [==============================] - 1s 7ms/step - loss: 0.4912 - binary_accuracy: 0.7670 - recall: 0.8320 - get_f1: 0.7924 - val_loss: 0.4896 - val_binary_accuracy: 0.7695 - val_recall: 0.8362 - val_get_f1: 0.7944\n",
      "Epoch 112/150\n",
      "118/118 [==============================] - 1s 9ms/step - loss: 0.4912 - binary_accuracy: 0.7671 - recall: 0.8325 - get_f1: 0.7922 - val_loss: 0.4896 - val_binary_accuracy: 0.7695 - val_recall: 0.8362 - val_get_f1: 0.7944\n",
      "Epoch 113/150\n",
      "118/118 [==============================] - 1s 7ms/step - loss: 0.4912 - binary_accuracy: 0.7673 - recall: 0.8339 - get_f1: 0.7927 - val_loss: 0.4896 - val_binary_accuracy: 0.7693 - val_recall: 0.8337 - val_get_f1: 0.7940\n",
      "Epoch 114/150\n",
      "118/118 [==============================] - 1s 7ms/step - loss: 0.4912 - binary_accuracy: 0.7675 - recall: 0.8325 - get_f1: 0.7924 - val_loss: 0.4896 - val_binary_accuracy: 0.7696 - val_recall: 0.8350 - val_get_f1: 0.7944\n",
      "Epoch 115/150\n",
      "118/118 [==============================] - 1s 7ms/step - loss: 0.4912 - binary_accuracy: 0.7673 - recall: 0.8320 - get_f1: 0.7925 - val_loss: 0.4896 - val_binary_accuracy: 0.7693 - val_recall: 0.8362 - val_get_f1: 0.7943\n",
      "Epoch 116/150\n",
      "118/118 [==============================] - 1s 7ms/step - loss: 0.4912 - binary_accuracy: 0.7674 - recall: 0.8328 - get_f1: 0.7929 - val_loss: 0.4896 - val_binary_accuracy: 0.7696 - val_recall: 0.8360 - val_get_f1: 0.7944\n",
      "Epoch 117/150\n",
      "118/118 [==============================] - 1s 7ms/step - loss: 0.4912 - binary_accuracy: 0.7674 - recall: 0.8329 - get_f1: 0.7927 - val_loss: 0.4895 - val_binary_accuracy: 0.7697 - val_recall: 0.8357 - val_get_f1: 0.7945\n",
      "Epoch 118/150\n",
      "118/118 [==============================] - 1s 7ms/step - loss: 0.4912 - binary_accuracy: 0.7675 - recall: 0.8332 - get_f1: 0.7927 - val_loss: 0.4895 - val_binary_accuracy: 0.7696 - val_recall: 0.8350 - val_get_f1: 0.7944\n",
      "Epoch 119/150\n",
      "118/118 [==============================] - 1s 9ms/step - loss: 0.4912 - binary_accuracy: 0.7672 - recall: 0.8323 - get_f1: 0.7925 - val_loss: 0.4895 - val_binary_accuracy: 0.7697 - val_recall: 0.8357 - val_get_f1: 0.7945\n",
      "Epoch 120/150\n",
      "118/118 [==============================] - 1s 8ms/step - loss: 0.4912 - binary_accuracy: 0.7674 - recall: 0.8322 - get_f1: 0.7926 - val_loss: 0.4895 - val_binary_accuracy: 0.7696 - val_recall: 0.8360 - val_get_f1: 0.7944\n",
      "Epoch 121/150\n",
      "118/118 [==============================] - 1s 7ms/step - loss: 0.4912 - binary_accuracy: 0.7673 - recall: 0.8326 - get_f1: 0.7924 - val_loss: 0.4895 - val_binary_accuracy: 0.7696 - val_recall: 0.8360 - val_get_f1: 0.7944\n",
      "Epoch 122/150\n",
      "118/118 [==============================] - 1s 7ms/step - loss: 0.4912 - binary_accuracy: 0.7673 - recall: 0.8330 - get_f1: 0.7926 - val_loss: 0.4895 - val_binary_accuracy: 0.7697 - val_recall: 0.8357 - val_get_f1: 0.7945\n",
      "Epoch 123/150\n",
      "118/118 [==============================] - 1s 7ms/step - loss: 0.4912 - binary_accuracy: 0.7673 - recall: 0.8328 - get_f1: 0.7924 - val_loss: 0.4895 - val_binary_accuracy: 0.7695 - val_recall: 0.8350 - val_get_f1: 0.7942\n",
      "Epoch 124/150\n",
      "118/118 [==============================] - 1s 7ms/step - loss: 0.4912 - binary_accuracy: 0.7674 - recall: 0.8320 - get_f1: 0.7924 - val_loss: 0.4895 - val_binary_accuracy: 0.7696 - val_recall: 0.8360 - val_get_f1: 0.7944\n",
      "Epoch 125/150\n",
      "118/118 [==============================] - 1s 8ms/step - loss: 0.4912 - binary_accuracy: 0.7674 - recall: 0.8329 - get_f1: 0.7927 - val_loss: 0.4895 - val_binary_accuracy: 0.7699 - val_recall: 0.8360 - val_get_f1: 0.7947\n",
      "Epoch 126/150\n",
      "118/118 [==============================] - 1s 6ms/step - loss: 0.4912 - binary_accuracy: 0.7672 - recall: 0.8330 - get_f1: 0.7928 - val_loss: 0.4895 - val_binary_accuracy: 0.7696 - val_recall: 0.8350 - val_get_f1: 0.7944\n",
      "Epoch 127/150\n",
      "118/118 [==============================] - 1s 7ms/step - loss: 0.4912 - binary_accuracy: 0.7675 - recall: 0.8319 - get_f1: 0.7926 - val_loss: 0.4895 - val_binary_accuracy: 0.7696 - val_recall: 0.8360 - val_get_f1: 0.7944\n",
      "Epoch 128/150\n",
      "118/118 [==============================] - 1s 7ms/step - loss: 0.4912 - binary_accuracy: 0.7674 - recall: 0.8332 - get_f1: 0.7928 - val_loss: 0.4895 - val_binary_accuracy: 0.7696 - val_recall: 0.8355 - val_get_f1: 0.7944\n",
      "Epoch 129/150\n",
      "118/118 [==============================] - 1s 7ms/step - loss: 0.4912 - binary_accuracy: 0.7675 - recall: 0.8327 - get_f1: 0.7926 - val_loss: 0.4895 - val_binary_accuracy: 0.7693 - val_recall: 0.8350 - val_get_f1: 0.7941\n",
      "Epoch 130/150\n",
      "118/118 [==============================] - 1s 7ms/step - loss: 0.4911 - binary_accuracy: 0.7673 - recall: 0.8320 - get_f1: 0.7926 - val_loss: 0.4895 - val_binary_accuracy: 0.7696 - val_recall: 0.8360 - val_get_f1: 0.7944\n",
      "Epoch 131/150\n",
      "118/118 [==============================] - 1s 7ms/step - loss: 0.4911 - binary_accuracy: 0.7672 - recall: 0.8324 - get_f1: 0.7924 - val_loss: 0.4895 - val_binary_accuracy: 0.7696 - val_recall: 0.8360 - val_get_f1: 0.7944\n",
      "Epoch 132/150\n",
      "118/118 [==============================] - 1s 7ms/step - loss: 0.4911 - binary_accuracy: 0.7672 - recall: 0.8334 - get_f1: 0.7925 - val_loss: 0.4895 - val_binary_accuracy: 0.7693 - val_recall: 0.8345 - val_get_f1: 0.7941\n",
      "Epoch 133/150\n",
      "118/118 [==============================] - 1s 7ms/step - loss: 0.4911 - binary_accuracy: 0.7675 - recall: 0.8324 - get_f1: 0.7927 - val_loss: 0.4895 - val_binary_accuracy: 0.7696 - val_recall: 0.8355 - val_get_f1: 0.7944\n",
      "Epoch 134/150\n",
      "118/118 [==============================] - 1s 7ms/step - loss: 0.4911 - binary_accuracy: 0.7675 - recall: 0.8325 - get_f1: 0.7926 - val_loss: 0.4895 - val_binary_accuracy: 0.7697 - val_recall: 0.8357 - val_get_f1: 0.7945\n",
      "Epoch 135/150\n",
      "118/118 [==============================] - 1s 7ms/step - loss: 0.4911 - binary_accuracy: 0.7672 - recall: 0.8331 - get_f1: 0.7928 - val_loss: 0.4895 - val_binary_accuracy: 0.7692 - val_recall: 0.8340 - val_get_f1: 0.7940\n",
      "Epoch 136/150\n",
      "118/118 [==============================] - 1s 7ms/step - loss: 0.4911 - binary_accuracy: 0.7674 - recall: 0.8320 - get_f1: 0.7926 - val_loss: 0.4895 - val_binary_accuracy: 0.7697 - val_recall: 0.8357 - val_get_f1: 0.7945\n",
      "Epoch 137/150\n",
      "118/118 [==============================] - 1s 7ms/step - loss: 0.4911 - binary_accuracy: 0.7675 - recall: 0.8334 - get_f1: 0.7928 - val_loss: 0.4895 - val_binary_accuracy: 0.7692 - val_recall: 0.8345 - val_get_f1: 0.7940\n",
      "Epoch 138/150\n",
      "118/118 [==============================] - 1s 7ms/step - loss: 0.4911 - binary_accuracy: 0.7674 - recall: 0.8322 - get_f1: 0.7926 - val_loss: 0.4895 - val_binary_accuracy: 0.7697 - val_recall: 0.8357 - val_get_f1: 0.7945\n",
      "Epoch 139/150\n",
      "118/118 [==============================] - 1s 7ms/step - loss: 0.4911 - binary_accuracy: 0.7674 - recall: 0.8333 - get_f1: 0.7927 - val_loss: 0.4895 - val_binary_accuracy: 0.7691 - val_recall: 0.8345 - val_get_f1: 0.7938\n",
      "Epoch 140/150\n",
      "118/118 [==============================] - 1s 7ms/step - loss: 0.4911 - binary_accuracy: 0.7674 - recall: 0.8331 - get_f1: 0.7926 - val_loss: 0.4895 - val_binary_accuracy: 0.7691 - val_recall: 0.8342 - val_get_f1: 0.7939\n",
      "Epoch 141/150\n",
      "118/118 [==============================] - 1s 7ms/step - loss: 0.4911 - binary_accuracy: 0.7675 - recall: 0.8318 - get_f1: 0.7925 - val_loss: 0.4895 - val_binary_accuracy: 0.7697 - val_recall: 0.8357 - val_get_f1: 0.7945\n",
      "Epoch 142/150\n",
      "118/118 [==============================] - 1s 7ms/step - loss: 0.4911 - binary_accuracy: 0.7673 - recall: 0.8328 - get_f1: 0.7924 - val_loss: 0.4895 - val_binary_accuracy: 0.7697 - val_recall: 0.8357 - val_get_f1: 0.7945\n",
      "Epoch 143/150\n",
      "118/118 [==============================] - 1s 7ms/step - loss: 0.4911 - binary_accuracy: 0.7674 - recall: 0.8329 - get_f1: 0.7928 - val_loss: 0.4895 - val_binary_accuracy: 0.7695 - val_recall: 0.8352 - val_get_f1: 0.7943\n",
      "Epoch 144/150\n",
      "118/118 [==============================] - 1s 7ms/step - loss: 0.4911 - binary_accuracy: 0.7673 - recall: 0.8322 - get_f1: 0.7926 - val_loss: 0.4895 - val_binary_accuracy: 0.7697 - val_recall: 0.8357 - val_get_f1: 0.7945\n",
      "Epoch 145/150\n",
      "118/118 [==============================] - 1s 7ms/step - loss: 0.4911 - binary_accuracy: 0.7674 - recall: 0.8334 - get_f1: 0.7926 - val_loss: 0.4895 - val_binary_accuracy: 0.7693 - val_recall: 0.8350 - val_get_f1: 0.7941\n",
      "Epoch 146/150\n",
      "118/118 [==============================] - 1s 7ms/step - loss: 0.4911 - binary_accuracy: 0.7672 - recall: 0.8329 - get_f1: 0.7928 - val_loss: 0.4895 - val_binary_accuracy: 0.7688 - val_recall: 0.8333 - val_get_f1: 0.7935\n",
      "Epoch 147/150\n",
      "118/118 [==============================] - 1s 7ms/step - loss: 0.4911 - binary_accuracy: 0.7676 - recall: 0.8322 - get_f1: 0.7927 - val_loss: 0.4895 - val_binary_accuracy: 0.7695 - val_recall: 0.8352 - val_get_f1: 0.7943\n",
      "Epoch 148/150\n",
      "118/118 [==============================] - 1s 7ms/step - loss: 0.4911 - binary_accuracy: 0.7674 - recall: 0.8326 - get_f1: 0.7927 - val_loss: 0.4895 - val_binary_accuracy: 0.7696 - val_recall: 0.8355 - val_get_f1: 0.7944\n",
      "Epoch 149/150\n",
      "118/118 [==============================] - 1s 6ms/step - loss: 0.4911 - binary_accuracy: 0.7673 - recall: 0.8320 - get_f1: 0.7923 - val_loss: 0.4895 - val_binary_accuracy: 0.7699 - val_recall: 0.8360 - val_get_f1: 0.7947\n",
      "Epoch 150/150\n",
      "118/118 [==============================] - 1s 7ms/step - loss: 0.4911 - binary_accuracy: 0.7675 - recall: 0.8323 - get_f1: 0.7926 - val_loss: 0.4895 - val_binary_accuracy: 0.7696 - val_recall: 0.8360 - val_get_f1: 0.7944\n"
     ]
    }
   ],
   "source": [
    "H = model.fit(x=x_train, y=y_train, epochs=n_epochs, batch_size=batch_size,\n",
    "            validation_data=(x_val, y_val))"
   ]
  },
  {
   "cell_type": "code",
   "execution_count": 26,
   "id": "d9a3d7d8",
   "metadata": {
    "execution": {
     "iopub.execute_input": "2022-03-05T11:17:39.102466Z",
     "iopub.status.busy": "2022-03-05T11:17:39.101710Z",
     "iopub.status.idle": "2022-03-05T11:17:39.711575Z",
     "shell.execute_reply": "2022-03-05T11:17:39.710919Z",
     "shell.execute_reply.started": "2022-03-05T11:13:09.230373Z"
    },
    "papermill": {
     "duration": 1.302487,
     "end_time": "2022-03-05T11:17:39.711737",
     "exception": false,
     "start_time": "2022-03-05T11:17:38.409250",
     "status": "completed"
    },
    "tags": []
   },
   "outputs": [
    {
     "name": "stdout",
     "output_type": "stream",
     "text": [
      "208/208 [==============================] - 1s 3ms/step - loss: 0.4981 - binary_accuracy: 0.7606 - recall: 0.8255 - get_f1: 0.7795\n",
      "Loss: 0.4981\n",
      "Accuracy: 76.06\n",
      "Recall: 0.8255\n",
      "F1 Score: 0.7795\n"
     ]
    }
   ],
   "source": [
    "# Evaluation\n",
    "loss, accuracy, recall, f1_score = model.evaluate(x_test, y_test)\n",
    "print('Loss: %.4f' % (loss))\n",
    "print('Accuracy: %.2f' % (accuracy*100))\n",
    "print('Recall: %.4f' % (recall))\n",
    "print('F1 Score: %.4f' % (f1_score))"
   ]
  },
  {
   "cell_type": "code",
   "execution_count": 27,
   "id": "049e2cdd",
   "metadata": {
    "execution": {
     "iopub.execute_input": "2022-03-05T11:17:41.191323Z",
     "iopub.status.busy": "2022-03-05T11:17:41.190471Z",
     "iopub.status.idle": "2022-03-05T11:17:42.319255Z",
     "shell.execute_reply": "2022-03-05T11:17:42.319685Z",
     "shell.execute_reply.started": "2022-03-05T11:13:10.414972Z"
    },
    "papermill": {
     "duration": 1.904775,
     "end_time": "2022-03-05T11:17:42.319851",
     "exception": false,
     "start_time": "2022-03-05T11:17:40.415076",
     "status": "completed"
    },
    "tags": []
   },
   "outputs": [
    {
     "name": "stdout",
     "output_type": "stream",
     "text": [
      "Evaluating network...\n"
     ]
    },
    {
     "data": {
      "image/png": "[encoded data removed]",
      "text/plain": [
       "<Figure size 432x288 with 1 Axes>"
      ]
     },
     "metadata": {},
     "output_type": "display_data"
    },
    {
     "data": {
      "image/png": "[encoded data removed]",
      "text/plain": [
       "<Figure size 432x288 with 1 Axes>"
      ]
     },
     "metadata": {},
     "output_type": "display_data"
    },
    {
     "data": {
      "image/png": "[encoded data removed]",
      "text/plain": [
       "<Figure size 432x288 with 1 Axes>"
      ]
     },
     "metadata": {},
     "output_type": "display_data"
    },
    {
     "data": {
      "image/png": "[encoded data removed]",
      "text/plain": [
       "<Figure size 432x288 with 1 Axes>"
      ]
     },
     "metadata": {},
     "output_type": "display_data"
    }
   ],
   "source": [
    "# evaluating and visual analysis of performance\n",
    "print(\"Evaluating network...\")\n",
    "predictions = model.predict(x=x_test, batch_size=128)\n",
    "# plot the training loss and accuracy\n",
    "N = np.arange(0, n_epochs)\n",
    "plt.style.use(\"ggplot\")\n",
    "plt.figure()\n",
    "\n",
    "plt.title(\"Training/Validation Recall on Dataset\")\n",
    "plt.plot(N, H.history[\"recall\"], label=\"train_rec\")\n",
    "plt.plot(N, H.history[\"val_recall\"], label=\"val_rec\")\n",
    "plt.xlabel(\"Epoch #\")\n",
    "plt.ylabel(\"Recall\")\n",
    "plt.legend()\n",
    "plt.show()\n",
    "\n",
    "plt.title(\"Training/Validation F1 Score on Dataset\")\n",
    "plt.plot(N, H.history[\"get_f1\"], label=\"train_f1\")\n",
    "plt.plot(N, H.history[\"val_get_f1\"], label=\"val_f1\")\n",
    "plt.xlabel(\"Epoch #\")\n",
    "plt.ylabel(\"F1 Score\")\n",
    "plt.legend()\n",
    "plt.show()\n",
    "\n",
    "plt.title(\"Training/Validation Accuracy on Dataset\")\n",
    "plt.plot(N, H.history[\"binary_accuracy\"], label=\"train_acc\")\n",
    "plt.plot(N, H.history[\"val_binary_accuracy\"], label=\"val_acc\")\n",
    "plt.xlabel(\"Epoch #\")\n",
    "plt.ylabel(\"Accuracy/100\")\n",
    "plt.legend()\n",
    "plt.show()\n",
    "\n",
    "plt.title(\"Training/Validation Loss on Dataset\")\n",
    "plt.plot(N, H.history[\"loss\"], label=\"train_loss\")\n",
    "plt.plot(N, H.history[\"val_loss\"], label=\"val_loss\")\n",
    "plt.xlabel(\"Epoch #\")\n",
    "plt.ylabel(\"Loss\")\n",
    "plt.legend()\n",
    "plt.show()"
   ]
  }
 ],
 "metadata": {
  "kernelspec": {
   "display_name": "Python 3",
   "language": "python",
   "name": "python3"
  },
  "language_info": {
   "codemirror_mode": {
    "name": "ipython",
    "version": 3
   },
   "file_extension": ".py",
   "mimetype": "text/x-python",
   "name": "python",
   "nbconvert_exporter": "python",
   "pygments_lexer": "ipython3",
   "version": "3.7.12"
  },
  "papermill": {
   "default_parameters": {},
   "duration": 169.55436,
   "end_time": "2022-03-05T11:17:46.128770",
   "environment_variables": {},
   "exception": null,
   "input_path": "__notebook__.ipynb",
   "output_path": "__notebook__.ipynb",
   "parameters": {},
   "start_time": "2022-03-05T11:14:56.574410",
   "version": "2.3.3"
  }
 },
 "nbformat": 4,
 "nbformat_minor": 5
}
