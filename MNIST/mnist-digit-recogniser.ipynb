{
 "cells": [
  {
   "cell_type": "code",
   "execution_count": 1,
   "id": "94c0dbb3",
   "metadata": {
    "_cell_guid": "b1076dfc-b9ad-4769-8c92-a6c4dae69d19",
    "_uuid": "8f2839f25d086af736a60e9eeb907d3b93b6e0e5",
    "execution": {
     "iopub.execute_input": "2022-03-06T08:50:25.250984Z",
     "iopub.status.busy": "2022-03-06T08:50:25.250180Z",
     "iopub.status.idle": "2022-03-06T08:50:29.863292Z",
     "shell.execute_reply": "2022-03-06T08:50:29.863730Z",
     "shell.execute_reply.started": "2022-03-06T07:21:41.826155Z"
    },
    "papermill": {
     "duration": 4.635162,
     "end_time": "2022-03-06T08:50:29.864005",
     "exception": false,
     "start_time": "2022-03-06T08:50:25.228843",
     "status": "completed"
    },
    "tags": []
   },
   "outputs": [
    {
     "name": "stdout",
     "output_type": "stream",
     "text": [
      "/kaggle/input/digit-recognizer/sample_submission.csv\n",
      "/kaggle/input/digit-recognizer/train.csv\n",
      "/kaggle/input/digit-recognizer/test.csv\n"
     ]
    }
   ],
   "source": [
    "# This Python 3 environment comes with many helpful analytics libraries installed\n",
    "# It is defined by the kaggle/python Docker image: https://github.com/kaggle/docker-python\n",
    "# For example, here's several helpful packages to load\n",
    "\n",
    "import numpy as np # linear algebra\n",
    "import pandas as pd # data processing, CSV file I/O (e.g. pd.read_csv)\n",
    "\n",
    "import tensorflow as tf\n",
    "from sklearn.model_selection import train_test_split\n",
    "\n",
    "# Input data files are available in the read-only \"../input/\" directory\n",
    "# For example, running this (by clicking run or pressing Shift+Enter) will list all files under the input directory\n",
    "\n",
    "import os\n",
    "for dirname, _, filenames in os.walk('/kaggle/input'):\n",
    "    for filename in filenames:\n",
    "        print(os.path.join(dirname, filename))\n",
    "\n",
    "# You can write up to 20GB to the current directory (/kaggle/working/) that gets preserved as output when you create a version using \"Save & Run All\" \n",
    "# You can also write temporary files to /kaggle/temp/, but they won't be saved outside of the current session"
   ]
  },
  {
   "cell_type": "code",
   "execution_count": 2,
   "id": "a2079663",
   "metadata": {
    "execution": {
     "iopub.execute_input": "2022-03-06T08:50:29.890522Z",
     "iopub.status.busy": "2022-03-06T08:50:29.889720Z",
     "iopub.status.idle": "2022-03-06T08:50:34.801527Z",
     "shell.execute_reply": "2022-03-06T08:50:34.800874Z",
     "shell.execute_reply.started": "2022-03-06T07:21:41.837138Z"
    },
    "papermill": {
     "duration": 4.924683,
     "end_time": "2022-03-06T08:50:34.801669",
     "exception": false,
     "start_time": "2022-03-06T08:50:29.876986",
     "status": "completed"
    },
    "tags": []
   },
   "outputs": [],
   "source": [
    "df_train = pd.read_csv('../input/digit-recognizer/train.csv')\n",
    "test = pd.read_csv('../input/digit-recognizer/test.csv')"
   ]
  },
  {
   "cell_type": "code",
   "execution_count": 3,
   "id": "c0b8901e",
   "metadata": {
    "execution": {
     "iopub.execute_input": "2022-03-06T08:50:34.828486Z",
     "iopub.status.busy": "2022-03-06T08:50:34.827985Z",
     "iopub.status.idle": "2022-03-06T08:50:34.910524Z",
     "shell.execute_reply": "2022-03-06T08:50:34.910048Z",
     "shell.execute_reply.started": "2022-03-06T07:21:45.783472Z"
    },
    "papermill": {
     "duration": 0.099164,
     "end_time": "2022-03-06T08:50:34.910658",
     "exception": false,
     "start_time": "2022-03-06T08:50:34.811494",
     "status": "completed"
    },
    "tags": []
   },
   "outputs": [],
   "source": [
    "y_train = df_train['label']\n",
    "x_train = df_train.drop(['label'], axis = 1)"
   ]
  },
  {
   "cell_type": "code",
   "execution_count": 4,
   "id": "ad54a375",
   "metadata": {
    "execution": {
     "iopub.execute_input": "2022-03-06T08:50:34.936136Z",
     "iopub.status.busy": "2022-03-06T08:50:34.935179Z",
     "iopub.status.idle": "2022-03-06T08:50:35.111984Z",
     "shell.execute_reply": "2022-03-06T08:50:35.112605Z",
     "shell.execute_reply.started": "2022-03-06T07:21:45.868584Z"
    },
    "papermill": {
     "duration": 0.191219,
     "end_time": "2022-03-06T08:50:35.112774",
     "exception": false,
     "start_time": "2022-03-06T08:50:34.921555",
     "status": "completed"
    },
    "tags": []
   },
   "outputs": [],
   "source": [
    "x_train = x_train / 255\n",
    "test = test / 255"
   ]
  },
  {
   "cell_type": "code",
   "execution_count": 5,
   "id": "351a2f55",
   "metadata": {
    "execution": {
     "iopub.execute_input": "2022-03-06T08:50:35.140244Z",
     "iopub.status.busy": "2022-03-06T08:50:35.135731Z",
     "iopub.status.idle": "2022-03-06T08:50:35.143819Z",
     "shell.execute_reply": "2022-03-06T08:50:35.143419Z",
     "shell.execute_reply.started": "2022-03-06T07:21:46.047871Z"
    },
    "papermill": {
     "duration": 0.021266,
     "end_time": "2022-03-06T08:50:35.143927",
     "exception": false,
     "start_time": "2022-03-06T08:50:35.122661",
     "status": "completed"
    },
    "tags": []
   },
   "outputs": [
    {
     "data": {
      "text/plain": [
       "(42000, 28, 28, 1)"
      ]
     },
     "execution_count": 5,
     "metadata": {},
     "output_type": "execute_result"
    }
   ],
   "source": [
    "x_train = x_train.values.reshape(-1, 28, 28, 1)\n",
    "y_train = y_train.T\n",
    "test = test.values.reshape(-1, 28, 28, 1)\n",
    "x_train.shape"
   ]
  },
  {
   "cell_type": "code",
   "execution_count": 6,
   "id": "e64c44da",
   "metadata": {
    "execution": {
     "iopub.execute_input": "2022-03-06T08:50:35.170150Z",
     "iopub.status.busy": "2022-03-06T08:50:35.169106Z",
     "iopub.status.idle": "2022-03-06T08:50:35.542728Z",
     "shell.execute_reply": "2022-03-06T08:50:35.541994Z",
     "shell.execute_reply.started": "2022-03-06T07:21:46.057662Z"
    },
    "papermill": {
     "duration": 0.38901,
     "end_time": "2022-03-06T08:50:35.542873",
     "exception": false,
     "start_time": "2022-03-06T08:50:35.153863",
     "status": "completed"
    },
    "tags": []
   },
   "outputs": [],
   "source": [
    "x_train, x_val, y_train, y_val = train_test_split(x_train, y_train, test_size=0.2, random_state=42)"
   ]
  },
  {
   "cell_type": "code",
   "execution_count": 7,
   "id": "a90ed387",
   "metadata": {
    "execution": {
     "iopub.execute_input": "2022-03-06T08:50:35.566548Z",
     "iopub.status.busy": "2022-03-06T08:50:35.565758Z",
     "iopub.status.idle": "2022-03-06T08:50:35.574967Z",
     "shell.execute_reply": "2022-03-06T08:50:35.574497Z",
     "shell.execute_reply.started": "2022-03-06T07:21:46.435268Z"
    },
    "papermill": {
     "duration": 0.021817,
     "end_time": "2022-03-06T08:50:35.575081",
     "exception": false,
     "start_time": "2022-03-06T08:50:35.553264",
     "status": "completed"
    },
    "tags": []
   },
   "outputs": [],
   "source": [
    "def convolutional_model(input_shape):\n",
    "    \n",
    "    input_img = tf.keras.Input(shape=input_shape)\n",
    "    \n",
    "    Z1 = tf.keras.layers.Conv2D(filters= 8, kernel_size= 4, strides= (1,1), padding='same')(input_img)\n",
    "    \n",
    "    A1 = tf.keras.layers.ReLU()(Z1)\n",
    "    \n",
    "    P1 = tf.keras.layers.MaxPool2D(pool_size=(8, 8), strides=(8, 8), padding='same')(A1)\n",
    "    \n",
    "    Z2 = tf.keras.layers.Conv2D(filters= 16, kernel_size= 2, strides= (1,1), padding='same')(P1)\n",
    "    \n",
    "    A2 = tf.keras.layers.ReLU()(Z2)\n",
    "    \n",
    "    P2 = tf.keras.layers.MaxPool2D(pool_size=(4, 4), strides=(4, 4), padding='same')(A2)\n",
    "    \n",
    "    F = tf.keras.layers.Flatten()(P2)\n",
    "    \n",
    "    outputs = tf.keras.layers.Dense(units= 10 , activation='softmax')(F)\n",
    "    \n",
    "    model = tf.keras.Model(inputs=input_img, outputs=outputs)\n",
    "    \n",
    "    return model"
   ]
  },
  {
   "cell_type": "code",
   "execution_count": 8,
   "id": "151d45ac",
   "metadata": {
    "execution": {
     "iopub.execute_input": "2022-03-06T08:50:35.603694Z",
     "iopub.status.busy": "2022-03-06T08:50:35.602876Z",
     "iopub.status.idle": "2022-03-06T08:50:38.540282Z",
     "shell.execute_reply": "2022-03-06T08:50:38.540865Z",
     "shell.execute_reply.started": "2022-03-06T07:21:46.444967Z"
    },
    "papermill": {
     "duration": 2.95467,
     "end_time": "2022-03-06T08:50:38.541068",
     "exception": false,
     "start_time": "2022-03-06T08:50:35.586398",
     "status": "completed"
    },
    "tags": []
   },
   "outputs": [
    {
     "name": "stdout",
     "output_type": "stream",
     "text": [
      "Model: \"model\"\n",
      "_________________________________________________________________\n",
      "Layer (type)                 Output Shape              Param #   \n",
      "=================================================================\n",
      "input_1 (InputLayer)         [(None, 28, 28, 1)]       0         \n",
      "_________________________________________________________________\n",
      "conv2d (Conv2D)              (None, 28, 28, 8)         136       \n",
      "_________________________________________________________________\n",
      "re_lu (ReLU)                 (None, 28, 28, 8)         0         \n",
      "_________________________________________________________________\n",
      "max_pooling2d (MaxPooling2D) (None, 4, 4, 8)           0         \n",
      "_________________________________________________________________\n",
      "conv2d_1 (Conv2D)            (None, 4, 4, 16)          528       \n",
      "_________________________________________________________________\n",
      "re_lu_1 (ReLU)               (None, 4, 4, 16)          0         \n",
      "_________________________________________________________________\n",
      "max_pooling2d_1 (MaxPooling2 (None, 1, 1, 16)          0         \n",
      "_________________________________________________________________\n",
      "flatten (Flatten)            (None, 16)                0         \n",
      "_________________________________________________________________\n",
      "dense (Dense)                (None, 10)                170       \n",
      "=================================================================\n",
      "Total params: 834\n",
      "Trainable params: 834\n",
      "Non-trainable params: 0\n",
      "_________________________________________________________________\n"
     ]
    },
    {
     "name": "stderr",
     "output_type": "stream",
     "text": [
      "2022-03-06 08:50:36.503411: I tensorflow/stream_executor/cuda/cuda_gpu_executor.cc:937] successful NUMA node read from SysFS had negative value (-1), but there must be at least one NUMA node, so returning NUMA node zero\n",
      "2022-03-06 08:50:36.600708: I tensorflow/stream_executor/cuda/cuda_gpu_executor.cc:937] successful NUMA node read from SysFS had negative value (-1), but there must be at least one NUMA node, so returning NUMA node zero\n",
      "2022-03-06 08:50:36.601472: I tensorflow/stream_executor/cuda/cuda_gpu_executor.cc:937] successful NUMA node read from SysFS had negative value (-1), but there must be at least one NUMA node, so returning NUMA node zero\n",
      "2022-03-06 08:50:36.602582: I tensorflow/core/platform/cpu_feature_guard.cc:142] This TensorFlow binary is optimized with oneAPI Deep Neural Network Library (oneDNN) to use the following CPU instructions in performance-critical operations:  AVX2 AVX512F FMA\n",
      "To enable them in other operations, rebuild TensorFlow with the appropriate compiler flags.\n",
      "2022-03-06 08:50:36.603362: I tensorflow/stream_executor/cuda/cuda_gpu_executor.cc:937] successful NUMA node read from SysFS had negative value (-1), but there must be at least one NUMA node, so returning NUMA node zero\n",
      "2022-03-06 08:50:36.604045: I tensorflow/stream_executor/cuda/cuda_gpu_executor.cc:937] successful NUMA node read from SysFS had negative value (-1), but there must be at least one NUMA node, so returning NUMA node zero\n",
      "2022-03-06 08:50:36.604649: I tensorflow/stream_executor/cuda/cuda_gpu_executor.cc:937] successful NUMA node read from SysFS had negative value (-1), but there must be at least one NUMA node, so returning NUMA node zero\n",
      "2022-03-06 08:50:38.172236: I tensorflow/stream_executor/cuda/cuda_gpu_executor.cc:937] successful NUMA node read from SysFS had negative value (-1), but there must be at least one NUMA node, so returning NUMA node zero\n",
      "2022-03-06 08:50:38.173051: I tensorflow/stream_executor/cuda/cuda_gpu_executor.cc:937] successful NUMA node read from SysFS had negative value (-1), but there must be at least one NUMA node, so returning NUMA node zero\n",
      "2022-03-06 08:50:38.173692: I tensorflow/stream_executor/cuda/cuda_gpu_executor.cc:937] successful NUMA node read from SysFS had negative value (-1), but there must be at least one NUMA node, so returning NUMA node zero\n",
      "2022-03-06 08:50:38.174298: I tensorflow/core/common_runtime/gpu/gpu_device.cc:1510] Created device /job:localhost/replica:0/task:0/device:GPU:0 with 15403 MB memory:  -> device: 0, name: Tesla P100-PCIE-16GB, pci bus id: 0000:00:04.0, compute capability: 6.0\n"
     ]
    }
   ],
   "source": [
    "conv_model = convolutional_model((28, 28, 1))\n",
    "conv_model.compile(optimizer='adam', loss=tf.keras.losses.SparseCategoricalCrossentropy(), metrics=['accuracy'])\n",
    "conv_model.summary()"
   ]
  },
  {
   "cell_type": "code",
   "execution_count": 9,
   "id": "3680254b",
   "metadata": {
    "execution": {
     "iopub.execute_input": "2022-03-06T08:50:38.568123Z",
     "iopub.status.busy": "2022-03-06T08:50:38.567606Z",
     "iopub.status.idle": "2022-03-06T08:51:44.507765Z",
     "shell.execute_reply": "2022-03-06T08:51:44.507141Z",
     "shell.execute_reply.started": "2022-03-06T07:21:46.50379Z"
    },
    "papermill": {
     "duration": 65.955119,
     "end_time": "2022-03-06T08:51:44.507957",
     "exception": false,
     "start_time": "2022-03-06T08:50:38.552838",
     "status": "completed"
    },
    "tags": []
   },
   "outputs": [
    {
     "name": "stderr",
     "output_type": "stream",
     "text": [
      "2022-03-06 08:50:38.845892: I tensorflow/compiler/mlir/mlir_graph_optimization_pass.cc:185] None of the MLIR Optimization Passes are enabled (registered 2)\n"
     ]
    },
    {
     "name": "stdout",
     "output_type": "stream",
     "text": [
      "Epoch 1/20\n"
     ]
    },
    {
     "name": "stderr",
     "output_type": "stream",
     "text": [
      "2022-03-06 08:50:40.136215: I tensorflow/stream_executor/cuda/cuda_dnn.cc:369] Loaded cuDNN version 8005\n"
     ]
    },
    {
     "name": "stdout",
     "output_type": "stream",
     "text": [
      "1050/1050 [==============================] - 9s 3ms/step - loss: 1.2189 - accuracy: 0.6539 - val_loss: 0.5462 - val_accuracy: 0.8388\n",
      "Epoch 2/20\n",
      "1050/1050 [==============================] - 3s 3ms/step - loss: 0.4389 - accuracy: 0.8670 - val_loss: 0.3706 - val_accuracy: 0.8807\n",
      "Epoch 3/20\n",
      "1050/1050 [==============================] - 3s 3ms/step - loss: 0.3350 - accuracy: 0.8977 - val_loss: 0.2890 - val_accuracy: 0.9101\n",
      "Epoch 4/20\n",
      "1050/1050 [==============================] - 3s 3ms/step - loss: 0.2845 - accuracy: 0.9124 - val_loss: 0.2584 - val_accuracy: 0.9196\n",
      "Epoch 5/20\n",
      "1050/1050 [==============================] - 3s 3ms/step - loss: 0.2523 - accuracy: 0.9230 - val_loss: 0.2252 - val_accuracy: 0.9311\n",
      "Epoch 6/20\n",
      "1050/1050 [==============================] - 3s 3ms/step - loss: 0.2320 - accuracy: 0.9289 - val_loss: 0.2066 - val_accuracy: 0.9379\n",
      "Epoch 7/20\n",
      "1050/1050 [==============================] - 3s 3ms/step - loss: 0.2150 - accuracy: 0.9337 - val_loss: 0.2005 - val_accuracy: 0.9375\n",
      "Epoch 8/20\n",
      "1050/1050 [==============================] - 3s 3ms/step - loss: 0.2022 - accuracy: 0.9369 - val_loss: 0.1936 - val_accuracy: 0.9413\n",
      "Epoch 9/20\n",
      "1050/1050 [==============================] - 3s 3ms/step - loss: 0.1919 - accuracy: 0.9385 - val_loss: 0.1828 - val_accuracy: 0.9424\n",
      "Epoch 10/20\n",
      "1050/1050 [==============================] - 3s 3ms/step - loss: 0.1850 - accuracy: 0.9415 - val_loss: 0.1752 - val_accuracy: 0.9464\n",
      "Epoch 11/20\n",
      "1050/1050 [==============================] - 3s 3ms/step - loss: 0.1776 - accuracy: 0.9439 - val_loss: 0.1736 - val_accuracy: 0.9468\n",
      "Epoch 12/20\n",
      "1050/1050 [==============================] - 3s 3ms/step - loss: 0.1706 - accuracy: 0.9472 - val_loss: 0.1603 - val_accuracy: 0.9490\n",
      "Epoch 13/20\n",
      "1050/1050 [==============================] - 3s 3ms/step - loss: 0.1649 - accuracy: 0.9475 - val_loss: 0.1595 - val_accuracy: 0.9488\n",
      "Epoch 14/20\n",
      "1050/1050 [==============================] - 3s 3ms/step - loss: 0.1599 - accuracy: 0.9492 - val_loss: 0.1504 - val_accuracy: 0.9505\n",
      "Epoch 15/20\n",
      "1050/1050 [==============================] - 3s 3ms/step - loss: 0.1552 - accuracy: 0.9503 - val_loss: 0.1558 - val_accuracy: 0.9490\n",
      "Epoch 16/20\n",
      "1050/1050 [==============================] - 3s 3ms/step - loss: 0.1522 - accuracy: 0.9512 - val_loss: 0.1493 - val_accuracy: 0.9504\n",
      "Epoch 17/20\n",
      "1050/1050 [==============================] - 3s 3ms/step - loss: 0.1497 - accuracy: 0.9528 - val_loss: 0.1394 - val_accuracy: 0.9530\n",
      "Epoch 18/20\n",
      "1050/1050 [==============================] - 3s 3ms/step - loss: 0.1438 - accuracy: 0.9539 - val_loss: 0.1507 - val_accuracy: 0.9513\n",
      "Epoch 19/20\n",
      "1050/1050 [==============================] - 3s 3ms/step - loss: 0.1426 - accuracy: 0.9543 - val_loss: 0.1405 - val_accuracy: 0.9530\n",
      "Epoch 20/20\n",
      "1050/1050 [==============================] - 3s 3ms/step - loss: 0.1388 - accuracy: 0.9563 - val_loss: 0.1413 - val_accuracy: 0.9555\n"
     ]
    }
   ],
   "source": [
    "history = conv_model.fit(x_train, y_train, epochs=20, validation_data = (x_val, y_val))"
   ]
  },
  {
   "cell_type": "code",
   "execution_count": 10,
   "id": "b3882170",
   "metadata": {
    "execution": {
     "iopub.execute_input": "2022-03-06T08:51:45.330691Z",
     "iopub.status.busy": "2022-03-06T08:51:45.329908Z",
     "iopub.status.idle": "2022-03-06T09:06:57.261425Z",
     "shell.execute_reply": "2022-03-06T09:06:57.262207Z"
    },
    "papermill": {
     "duration": 912.443968,
     "end_time": "2022-03-06T09:06:57.262409",
     "exception": false,
     "start_time": "2022-03-06T08:51:44.818441",
     "status": "completed"
    },
    "tags": []
   },
   "outputs": [],
   "source": [
    "prediction = []\n",
    "for i in range(len(test)):\n",
    "    prediction.append(conv_model.predict(test[i].reshape(1,28,28,1)).argmax())\n",
    "submissions=pd.DataFrame({\"ImageId\": list(range(1,len(prediction)+1)),\"Label\": prediction})\n",
    "submissions.to_csv(\"submission.csv\", index=False, header=True)"
   ]
  }
 ],
 "metadata": {
  "kernelspec": {
   "display_name": "Python 3",
   "language": "python",
   "name": "python3"
  },
  "language_info": {
   "codemirror_mode": {
    "name": "ipython",
    "version": 3
   },
   "file_extension": ".py",
   "mimetype": "text/x-python",
   "name": "python",
   "nbconvert_exporter": "python",
   "pygments_lexer": "ipython3",
   "version": "3.7.12"
  },
  "papermill": {
   "default_parameters": {},
   "duration": 1003.844063,
   "end_time": "2022-03-06T09:07:00.985420",
   "environment_variables": {},
   "exception": null,
   "input_path": "__notebook__.ipynb",
   "output_path": "__notebook__.ipynb",
   "parameters": {},
   "start_time": "2022-03-06T08:50:17.141357",
   "version": "2.3.3"
  }
 },
 "nbformat": 4,
 "nbformat_minor": 5
}
