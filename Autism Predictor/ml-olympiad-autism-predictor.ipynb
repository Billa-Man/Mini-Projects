{
 "cells": [
  {
   "cell_type": "code",
   "execution_count": 1,
   "id": "b5f6a54e",
   "metadata": {
    "_cell_guid": "b1076dfc-b9ad-4769-8c92-a6c4dae69d19",
    "_uuid": "8f2839f25d086af736a60e9eeb907d3b93b6e0e5",
    "execution": {
     "iopub.execute_input": "2022-03-09T10:54:12.738752Z",
     "iopub.status.busy": "2022-03-09T10:54:12.736615Z",
     "iopub.status.idle": "2022-03-09T10:54:12.757221Z",
     "shell.execute_reply": "2022-03-09T10:54:12.757769Z",
     "shell.execute_reply.started": "2022-03-09T10:53:26.563041Z"
    },
    "papermill": {
     "duration": 0.048243,
     "end_time": "2022-03-09T10:54:12.758088",
     "exception": false,
     "start_time": "2022-03-09T10:54:12.709845",
     "status": "completed"
    },
    "tags": []
   },
   "outputs": [
    {
     "name": "stdout",
     "output_type": "stream",
     "text": [
      "/kaggle/input/autism-prediction/Autism-prediction/sample_submission.csv\n",
      "/kaggle/input/autism-prediction/Autism-prediction/train.csv\n",
      "/kaggle/input/autism-prediction/Autism-prediction/test.csv\n"
     ]
    }
   ],
   "source": [
    "# This Python 3 environment comes with many helpful analytics libraries installed\n",
    "# It is defined by the kaggle/python Docker image: https://github.com/kaggle/docker-python\n",
    "# For example, here's several helpful packages to load\n",
    "\n",
    "import numpy as np # linear algebra\n",
    "import pandas as pd # data processing, CSV file I/O (e.g. pd.read_csv)\n",
    "\n",
    "# Input data files are available in the read-only \"../input/\" directory\n",
    "# For example, running this (by clicking run or pressing Shift+Enter) will list all files under the input directory\n",
    "\n",
    "import os\n",
    "for dirname, _, filenames in os.walk('/kaggle/input'):\n",
    "    for filename in filenames:\n",
    "        print(os.path.join(dirname, filename))\n",
    "\n",
    "# You can write up to 20GB to the current directory (/kaggle/working/) that gets preserved as output when you create a version using \"Save & Run All\" \n",
    "# You can also write temporary files to /kaggle/temp/, but they won't be saved outside of the current session"
   ]
  },
  {
   "cell_type": "code",
   "execution_count": 2,
   "id": "f2f24ec9",
   "metadata": {
    "execution": {
     "iopub.execute_input": "2022-03-09T10:54:12.805934Z",
     "iopub.status.busy": "2022-03-09T10:54:12.804867Z",
     "iopub.status.idle": "2022-03-09T10:54:12.807543Z",
     "shell.execute_reply": "2022-03-09T10:54:12.808097Z",
     "shell.execute_reply.started": "2022-03-09T10:53:26.600364Z"
    },
    "papermill": {
     "duration": 0.028429,
     "end_time": "2022-03-09T10:54:12.808277",
     "exception": false,
     "start_time": "2022-03-09T10:54:12.779848",
     "status": "completed"
    },
    "tags": []
   },
   "outputs": [],
   "source": [
    "lr = 0.01\n",
    "n_epochs = 20\n",
    "conf = 0.80\n",
    "batch_size = 35\n",
    "weight = 6"
   ]
  },
  {
   "cell_type": "code",
   "execution_count": 3,
   "id": "6a791573",
   "metadata": {
    "execution": {
     "iopub.execute_input": "2022-03-09T10:54:12.853860Z",
     "iopub.status.busy": "2022-03-09T10:54:12.853173Z",
     "iopub.status.idle": "2022-03-09T10:54:19.414251Z",
     "shell.execute_reply": "2022-03-09T10:54:19.413175Z",
     "shell.execute_reply.started": "2022-03-09T10:53:26.607796Z"
    },
    "papermill": {
     "duration": 6.586019,
     "end_time": "2022-03-09T10:54:19.414406",
     "exception": false,
     "start_time": "2022-03-09T10:54:12.828387",
     "status": "completed"
    },
    "tags": []
   },
   "outputs": [],
   "source": [
    "import tensorflow as tf\n",
    "\n",
    "from keras.models import Sequential\n",
    "from keras.layers import Dense\n",
    "from sklearn.model_selection import train_test_split"
   ]
  },
  {
   "cell_type": "code",
   "execution_count": 4,
   "id": "34fa00c7",
   "metadata": {
    "execution": {
     "iopub.execute_input": "2022-03-09T10:54:19.461151Z",
     "iopub.status.busy": "2022-03-09T10:54:19.460039Z",
     "iopub.status.idle": "2022-03-09T10:54:19.486581Z",
     "shell.execute_reply": "2022-03-09T10:54:19.485210Z",
     "shell.execute_reply.started": "2022-03-09T10:53:31.979250Z"
    },
    "papermill": {
     "duration": 0.051966,
     "end_time": "2022-03-09T10:54:19.486758",
     "exception": false,
     "start_time": "2022-03-09T10:54:19.434792",
     "status": "completed"
    },
    "tags": []
   },
   "outputs": [],
   "source": [
    "train = pd.read_csv('../input/autism-prediction/Autism-prediction/train.csv')\n",
    "test = pd.read_csv('../input/autism-prediction/Autism-prediction/test.csv')"
   ]
  },
  {
   "cell_type": "code",
   "execution_count": 5,
   "id": "a6266c85",
   "metadata": {
    "execution": {
     "iopub.execute_input": "2022-03-09T10:54:19.538484Z",
     "iopub.status.busy": "2022-03-09T10:54:19.537653Z",
     "iopub.status.idle": "2022-03-09T10:54:19.544553Z",
     "shell.execute_reply": "2022-03-09T10:54:19.545120Z",
     "shell.execute_reply.started": "2022-03-09T10:53:32.004484Z"
    },
    "papermill": {
     "duration": 0.037393,
     "end_time": "2022-03-09T10:54:19.545316",
     "exception": false,
     "start_time": "2022-03-09T10:54:19.507923",
     "status": "completed"
    },
    "tags": []
   },
   "outputs": [],
   "source": [
    "pred_df = pd.DataFrame()\n",
    "pred_df['ID'] = test['ID']"
   ]
  },
  {
   "cell_type": "code",
   "execution_count": 6,
   "id": "619829c5",
   "metadata": {
    "execution": {
     "iopub.execute_input": "2022-03-09T10:54:19.601167Z",
     "iopub.status.busy": "2022-03-09T10:54:19.599849Z",
     "iopub.status.idle": "2022-03-09T10:54:19.620559Z",
     "shell.execute_reply": "2022-03-09T10:54:19.621187Z",
     "shell.execute_reply.started": "2022-03-09T10:53:32.017529Z"
    },
    "papermill": {
     "duration": 0.055028,
     "end_time": "2022-03-09T10:54:19.621353",
     "exception": false,
     "start_time": "2022-03-09T10:54:19.566325",
     "status": "completed"
    },
    "tags": []
   },
   "outputs": [
    {
     "data": {
      "text/html": [
       "<div>\n",
       "<style scoped>\n",
       "    .dataframe tbody tr th:only-of-type {\n",
       "        vertical-align: middle;\n",
       "    }\n",
       "\n",
       "    .dataframe tbody tr th {\n",
       "        vertical-align: top;\n",
       "    }\n",
       "\n",
       "    .dataframe thead th {\n",
       "        text-align: right;\n",
       "    }\n",
       "</style>\n",
       "<table border=\"1\" class=\"dataframe\">\n",
       "  <thead>\n",
       "    <tr style=\"text-align: right;\">\n",
       "      <th></th>\n",
       "      <th>A1_Score</th>\n",
       "      <th>A2_Score</th>\n",
       "      <th>A3_Score</th>\n",
       "      <th>A4_Score</th>\n",
       "      <th>A5_Score</th>\n",
       "      <th>A6_Score</th>\n",
       "      <th>A7_Score</th>\n",
       "      <th>A8_Score</th>\n",
       "      <th>A9_Score</th>\n",
       "      <th>A10_Score</th>\n",
       "      <th>age</th>\n",
       "      <th>gender</th>\n",
       "      <th>jaundice</th>\n",
       "      <th>austim</th>\n",
       "      <th>result</th>\n",
       "      <th>relation</th>\n",
       "    </tr>\n",
       "  </thead>\n",
       "  <tbody>\n",
       "    <tr>\n",
       "      <th>0</th>\n",
       "      <td>1</td>\n",
       "      <td>0</td>\n",
       "      <td>1</td>\n",
       "      <td>1</td>\n",
       "      <td>1</td>\n",
       "      <td>1</td>\n",
       "      <td>0</td>\n",
       "      <td>1</td>\n",
       "      <td>1</td>\n",
       "      <td>1</td>\n",
       "      <td>18.605397</td>\n",
       "      <td>f</td>\n",
       "      <td>no</td>\n",
       "      <td>no</td>\n",
       "      <td>7.819715</td>\n",
       "      <td>Self</td>\n",
       "    </tr>\n",
       "    <tr>\n",
       "      <th>1</th>\n",
       "      <td>0</td>\n",
       "      <td>0</td>\n",
       "      <td>0</td>\n",
       "      <td>0</td>\n",
       "      <td>0</td>\n",
       "      <td>0</td>\n",
       "      <td>0</td>\n",
       "      <td>0</td>\n",
       "      <td>0</td>\n",
       "      <td>1</td>\n",
       "      <td>13.829369</td>\n",
       "      <td>f</td>\n",
       "      <td>no</td>\n",
       "      <td>no</td>\n",
       "      <td>10.544296</td>\n",
       "      <td>?</td>\n",
       "    </tr>\n",
       "    <tr>\n",
       "      <th>2</th>\n",
       "      <td>1</td>\n",
       "      <td>1</td>\n",
       "      <td>1</td>\n",
       "      <td>1</td>\n",
       "      <td>1</td>\n",
       "      <td>1</td>\n",
       "      <td>0</td>\n",
       "      <td>0</td>\n",
       "      <td>1</td>\n",
       "      <td>1</td>\n",
       "      <td>14.679893</td>\n",
       "      <td>f</td>\n",
       "      <td>no</td>\n",
       "      <td>no</td>\n",
       "      <td>13.167506</td>\n",
       "      <td>Self</td>\n",
       "    </tr>\n",
       "    <tr>\n",
       "      <th>3</th>\n",
       "      <td>0</td>\n",
       "      <td>0</td>\n",
       "      <td>0</td>\n",
       "      <td>1</td>\n",
       "      <td>0</td>\n",
       "      <td>0</td>\n",
       "      <td>0</td>\n",
       "      <td>0</td>\n",
       "      <td>0</td>\n",
       "      <td>0</td>\n",
       "      <td>61.035288</td>\n",
       "      <td>f</td>\n",
       "      <td>no</td>\n",
       "      <td>no</td>\n",
       "      <td>1.530098</td>\n",
       "      <td>?</td>\n",
       "    </tr>\n",
       "    <tr>\n",
       "      <th>4</th>\n",
       "      <td>0</td>\n",
       "      <td>0</td>\n",
       "      <td>0</td>\n",
       "      <td>0</td>\n",
       "      <td>1</td>\n",
       "      <td>0</td>\n",
       "      <td>0</td>\n",
       "      <td>0</td>\n",
       "      <td>1</td>\n",
       "      <td>1</td>\n",
       "      <td>14.256686</td>\n",
       "      <td>m</td>\n",
       "      <td>no</td>\n",
       "      <td>yes</td>\n",
       "      <td>7.949723</td>\n",
       "      <td>Self</td>\n",
       "    </tr>\n",
       "  </tbody>\n",
       "</table>\n",
       "</div>"
      ],
      "text/plain": [
       "   A1_Score  A2_Score  A3_Score  A4_Score  A5_Score  A6_Score  A7_Score  \\\n",
       "0         1         0         1         1         1         1         0   \n",
       "1         0         0         0         0         0         0         0   \n",
       "2         1         1         1         1         1         1         0   \n",
       "3         0         0         0         1         0         0         0   \n",
       "4         0         0         0         0         1         0         0   \n",
       "\n",
       "   A8_Score  A9_Score  A10_Score        age gender jaundice austim     result  \\\n",
       "0         1         1          1  18.605397      f       no     no   7.819715   \n",
       "1         0         0          1  13.829369      f       no     no  10.544296   \n",
       "2         0         1          1  14.679893      f       no     no  13.167506   \n",
       "3         0         0          0  61.035288      f       no     no   1.530098   \n",
       "4         0         1          1  14.256686      m       no    yes   7.949723   \n",
       "\n",
       "  relation  \n",
       "0     Self  \n",
       "1        ?  \n",
       "2     Self  \n",
       "3        ?  \n",
       "4     Self  "
      ]
     },
     "execution_count": 6,
     "metadata": {},
     "output_type": "execute_result"
    }
   ],
   "source": [
    "x_train = train.drop(['used_app_before', 'age_desc', 'ID', 'contry_of_res', 'ethnicity', 'Class/ASD'], axis = 1)\n",
    "test = test.drop(['used_app_before', 'age_desc', 'ID', 'contry_of_res', 'ethnicity'], axis = 1)\n",
    "y_train = train['Class/ASD']\n",
    "x_train.head()"
   ]
  },
  {
   "cell_type": "code",
   "execution_count": 7,
   "id": "1808bff7",
   "metadata": {
    "execution": {
     "iopub.execute_input": "2022-03-09T10:54:19.674089Z",
     "iopub.status.busy": "2022-03-09T10:54:19.673003Z",
     "iopub.status.idle": "2022-03-09T10:54:19.689628Z",
     "shell.execute_reply": "2022-03-09T10:54:19.689050Z",
     "shell.execute_reply.started": "2022-03-09T10:53:32.044064Z"
    },
    "papermill": {
     "duration": 0.046511,
     "end_time": "2022-03-09T10:54:19.689799",
     "exception": false,
     "start_time": "2022-03-09T10:54:19.643288",
     "status": "completed"
    },
    "tags": []
   },
   "outputs": [],
   "source": [
    "x_train.replace({'no': 0, 'yes': 1}, inplace = True)\n",
    "x_train.replace({'m': 0, 'f': 1}, inplace = True)\n",
    "x_train.replace({'?': 'others', 'others': 'Others'}, inplace = True)\n",
    "x_train.replace({'Self':0,'?':0,'Parent':0,'Relative':0,'Others':0, 'others':0,'Health care professional':1}, inplace = True)\n",
    "test.replace({'no': 0, 'yes': 1}, inplace = True)\n",
    "test.replace({'m': 0, 'f': 1}, inplace = True)\n",
    "test.replace({'?': 'others', 'others': 'Others'}, inplace = True)\n",
    "test.replace({'Self':0,'?':0,'Parent':0,'Relative':0,'Others':0, 'others':0,'Health care professional':1}, inplace = True)"
   ]
  },
  {
   "cell_type": "code",
   "execution_count": 8,
   "id": "84ff8587",
   "metadata": {
    "execution": {
     "iopub.execute_input": "2022-03-09T10:54:19.736249Z",
     "iopub.status.busy": "2022-03-09T10:54:19.735120Z",
     "iopub.status.idle": "2022-03-09T10:54:19.765134Z",
     "shell.execute_reply": "2022-03-09T10:54:19.764557Z",
     "shell.execute_reply.started": "2022-03-09T10:53:32.067253Z"
    },
    "papermill": {
     "duration": 0.054088,
     "end_time": "2022-03-09T10:54:19.765276",
     "exception": false,
     "start_time": "2022-03-09T10:54:19.711188",
     "status": "completed"
    },
    "tags": []
   },
   "outputs": [
    {
     "data": {
      "text/html": [
       "<div>\n",
       "<style scoped>\n",
       "    .dataframe tbody tr th:only-of-type {\n",
       "        vertical-align: middle;\n",
       "    }\n",
       "\n",
       "    .dataframe tbody tr th {\n",
       "        vertical-align: top;\n",
       "    }\n",
       "\n",
       "    .dataframe thead th {\n",
       "        text-align: right;\n",
       "    }\n",
       "</style>\n",
       "<table border=\"1\" class=\"dataframe\">\n",
       "  <thead>\n",
       "    <tr style=\"text-align: right;\">\n",
       "      <th></th>\n",
       "      <th>A1_Score</th>\n",
       "      <th>A2_Score</th>\n",
       "      <th>A3_Score</th>\n",
       "      <th>A4_Score</th>\n",
       "      <th>A5_Score</th>\n",
       "      <th>A6_Score</th>\n",
       "      <th>A7_Score</th>\n",
       "      <th>A8_Score</th>\n",
       "      <th>A9_Score</th>\n",
       "      <th>A10_Score</th>\n",
       "      <th>age</th>\n",
       "      <th>gender</th>\n",
       "      <th>jaundice</th>\n",
       "      <th>austim</th>\n",
       "      <th>result</th>\n",
       "      <th>relation</th>\n",
       "    </tr>\n",
       "  </thead>\n",
       "  <tbody>\n",
       "    <tr>\n",
       "      <th>0</th>\n",
       "      <td>1</td>\n",
       "      <td>0</td>\n",
       "      <td>1</td>\n",
       "      <td>1</td>\n",
       "      <td>1</td>\n",
       "      <td>1</td>\n",
       "      <td>0</td>\n",
       "      <td>1</td>\n",
       "      <td>1</td>\n",
       "      <td>1</td>\n",
       "      <td>0.143931</td>\n",
       "      <td>1</td>\n",
       "      <td>0</td>\n",
       "      <td>0</td>\n",
       "      <td>0.651488</td>\n",
       "      <td>0</td>\n",
       "    </tr>\n",
       "    <tr>\n",
       "      <th>1</th>\n",
       "      <td>0</td>\n",
       "      <td>0</td>\n",
       "      <td>0</td>\n",
       "      <td>0</td>\n",
       "      <td>0</td>\n",
       "      <td>0</td>\n",
       "      <td>0</td>\n",
       "      <td>0</td>\n",
       "      <td>0</td>\n",
       "      <td>1</td>\n",
       "      <td>0.067930</td>\n",
       "      <td>1</td>\n",
       "      <td>0</td>\n",
       "      <td>0</td>\n",
       "      <td>0.821928</td>\n",
       "      <td>0</td>\n",
       "    </tr>\n",
       "    <tr>\n",
       "      <th>2</th>\n",
       "      <td>1</td>\n",
       "      <td>1</td>\n",
       "      <td>1</td>\n",
       "      <td>1</td>\n",
       "      <td>1</td>\n",
       "      <td>1</td>\n",
       "      <td>0</td>\n",
       "      <td>0</td>\n",
       "      <td>1</td>\n",
       "      <td>1</td>\n",
       "      <td>0.081464</td>\n",
       "      <td>1</td>\n",
       "      <td>0</td>\n",
       "      <td>0</td>\n",
       "      <td>0.986027</td>\n",
       "      <td>0</td>\n",
       "    </tr>\n",
       "    <tr>\n",
       "      <th>3</th>\n",
       "      <td>0</td>\n",
       "      <td>0</td>\n",
       "      <td>0</td>\n",
       "      <td>1</td>\n",
       "      <td>0</td>\n",
       "      <td>0</td>\n",
       "      <td>0</td>\n",
       "      <td>0</td>\n",
       "      <td>0</td>\n",
       "      <td>0</td>\n",
       "      <td>0.819115</td>\n",
       "      <td>1</td>\n",
       "      <td>0</td>\n",
       "      <td>0</td>\n",
       "      <td>0.258030</td>\n",
       "      <td>0</td>\n",
       "    </tr>\n",
       "    <tr>\n",
       "      <th>4</th>\n",
       "      <td>0</td>\n",
       "      <td>0</td>\n",
       "      <td>0</td>\n",
       "      <td>0</td>\n",
       "      <td>1</td>\n",
       "      <td>0</td>\n",
       "      <td>0</td>\n",
       "      <td>0</td>\n",
       "      <td>1</td>\n",
       "      <td>1</td>\n",
       "      <td>0.074730</td>\n",
       "      <td>0</td>\n",
       "      <td>0</td>\n",
       "      <td>1</td>\n",
       "      <td>0.659620</td>\n",
       "      <td>0</td>\n",
       "    </tr>\n",
       "  </tbody>\n",
       "</table>\n",
       "</div>"
      ],
      "text/plain": [
       "   A1_Score  A2_Score  A3_Score  A4_Score  A5_Score  A6_Score  A7_Score  \\\n",
       "0         1         0         1         1         1         1         0   \n",
       "1         0         0         0         0         0         0         0   \n",
       "2         1         1         1         1         1         1         0   \n",
       "3         0         0         0         1         0         0         0   \n",
       "4         0         0         0         0         1         0         0   \n",
       "\n",
       "   A8_Score  A9_Score  A10_Score       age  gender  jaundice  austim  \\\n",
       "0         1         1          1  0.143931       1         0       0   \n",
       "1         0         0          1  0.067930       1         0       0   \n",
       "2         0         1          1  0.081464       1         0       0   \n",
       "3         0         0          0  0.819115       1         0       0   \n",
       "4         0         1          1  0.074730       0         0       1   \n",
       "\n",
       "     result  relation  \n",
       "0  0.651488         0  \n",
       "1  0.821928         0  \n",
       "2  0.986027         0  \n",
       "3  0.258030         0  \n",
       "4  0.659620         0  "
      ]
     },
     "execution_count": 8,
     "metadata": {},
     "output_type": "execute_result"
    }
   ],
   "source": [
    "cols=['age', 'result']\n",
    "x_train[cols] = (x_train[cols] - x_train[cols].min())/ (x_train[cols].max()- x_train[cols].min())\n",
    "test[cols] = (test[cols] - test[cols].min())/ (test[cols].max()- test[cols].min())\n",
    "x_train.head()"
   ]
  },
  {
   "cell_type": "code",
   "execution_count": 9,
   "id": "8d1f101e",
   "metadata": {
    "execution": {
     "iopub.execute_input": "2022-03-09T10:54:19.813589Z",
     "iopub.status.busy": "2022-03-09T10:54:19.812614Z",
     "iopub.status.idle": "2022-03-09T10:54:19.816229Z",
     "shell.execute_reply": "2022-03-09T10:54:19.815580Z",
     "shell.execute_reply.started": "2022-03-09T10:53:32.096172Z"
    },
    "papermill": {
     "duration": 0.029751,
     "end_time": "2022-03-09T10:54:19.816381",
     "exception": false,
     "start_time": "2022-03-09T10:54:19.786630",
     "status": "completed"
    },
    "tags": []
   },
   "outputs": [],
   "source": [
    "x_train = x_train.to_numpy()\n",
    "test = test.to_numpy()\n",
    "y_train = y_train.to_numpy()"
   ]
  },
  {
   "cell_type": "code",
   "execution_count": 10,
   "id": "dda9fb33",
   "metadata": {
    "execution": {
     "iopub.execute_input": "2022-03-09T10:54:19.865207Z",
     "iopub.status.busy": "2022-03-09T10:54:19.864326Z",
     "iopub.status.idle": "2022-03-09T10:54:19.867771Z",
     "shell.execute_reply": "2022-03-09T10:54:19.867204Z",
     "shell.execute_reply.started": "2022-03-09T10:53:32.102807Z"
    },
    "papermill": {
     "duration": 0.030395,
     "end_time": "2022-03-09T10:54:19.868034",
     "exception": false,
     "start_time": "2022-03-09T10:54:19.837639",
     "status": "completed"
    },
    "tags": []
   },
   "outputs": [],
   "source": [
    "x_train, x_val, y_train, y_val = train_test_split(x_train, y_train, test_size=0.30,  random_state=42)"
   ]
  },
  {
   "cell_type": "code",
   "execution_count": 11,
   "id": "97d7381c",
   "metadata": {
    "execution": {
     "iopub.execute_input": "2022-03-09T10:54:19.931757Z",
     "iopub.status.busy": "2022-03-09T10:54:19.930677Z",
     "iopub.status.idle": "2022-03-09T10:54:19.936583Z",
     "shell.execute_reply": "2022-03-09T10:54:19.936041Z",
     "shell.execute_reply.started": "2022-03-09T10:53:32.112214Z"
    },
    "papermill": {
     "duration": 0.030633,
     "end_time": "2022-03-09T10:54:19.936721",
     "exception": false,
     "start_time": "2022-03-09T10:54:19.906088",
     "status": "completed"
    },
    "tags": []
   },
   "outputs": [],
   "source": [
    "y_train = y_train.reshape(y_train.shape[0],1)\n",
    "y_val = y_val.reshape(y_val.shape[0],1)"
   ]
  },
  {
   "cell_type": "code",
   "execution_count": 12,
   "id": "11834b75",
   "metadata": {
    "execution": {
     "iopub.execute_input": "2022-03-09T10:54:19.983241Z",
     "iopub.status.busy": "2022-03-09T10:54:19.982080Z",
     "iopub.status.idle": "2022-03-09T10:54:20.359424Z",
     "shell.execute_reply": "2022-03-09T10:54:20.358589Z",
     "shell.execute_reply.started": "2022-03-09T10:53:32.120329Z"
    },
    "papermill": {
     "duration": 0.401657,
     "end_time": "2022-03-09T10:54:20.359600",
     "exception": false,
     "start_time": "2022-03-09T10:54:19.957943",
     "status": "completed"
    },
    "tags": []
   },
   "outputs": [],
   "source": [
    "initial_learning_rate =lr\n",
    "lr_schedule = tf.keras.optimizers.schedules.ExponentialDecay(\n",
    "    initial_learning_rate,\n",
    "    decay_steps=n_epochs,\n",
    "    decay_rate=0.96,\n",
    "    staircase=True)"
   ]
  },
  {
   "cell_type": "code",
   "execution_count": 13,
   "id": "2667eb30",
   "metadata": {
    "execution": {
     "iopub.execute_input": "2022-03-09T10:54:20.411307Z",
     "iopub.status.busy": "2022-03-09T10:54:20.410539Z",
     "iopub.status.idle": "2022-03-09T10:54:23.593082Z",
     "shell.execute_reply": "2022-03-09T10:54:23.594310Z",
     "shell.execute_reply.started": "2022-03-09T10:53:32.431457Z"
    },
    "papermill": {
     "duration": 3.212276,
     "end_time": "2022-03-09T10:54:23.594585",
     "exception": false,
     "start_time": "2022-03-09T10:54:20.382309",
     "status": "completed"
    },
    "tags": []
   },
   "outputs": [
    {
     "name": "stderr",
     "output_type": "stream",
     "text": [
      "2022-03-09 10:54:20.492187: I tensorflow/stream_executor/cuda/cuda_gpu_executor.cc:937] successful NUMA node read from SysFS had negative value (-1), but there must be at least one NUMA node, so returning NUMA node zero\n",
      "2022-03-09 10:54:20.648713: I tensorflow/stream_executor/cuda/cuda_gpu_executor.cc:937] successful NUMA node read from SysFS had negative value (-1), but there must be at least one NUMA node, so returning NUMA node zero\n",
      "2022-03-09 10:54:20.649850: I tensorflow/stream_executor/cuda/cuda_gpu_executor.cc:937] successful NUMA node read from SysFS had negative value (-1), but there must be at least one NUMA node, so returning NUMA node zero\n",
      "2022-03-09 10:54:20.651480: I tensorflow/core/platform/cpu_feature_guard.cc:142] This TensorFlow binary is optimized with oneAPI Deep Neural Network Library (oneDNN) to use the following CPU instructions in performance-critical operations:  AVX2 FMA\n",
      "To enable them in other operations, rebuild TensorFlow with the appropriate compiler flags.\n",
      "2022-03-09 10:54:20.652798: I tensorflow/stream_executor/cuda/cuda_gpu_executor.cc:937] successful NUMA node read from SysFS had negative value (-1), but there must be at least one NUMA node, so returning NUMA node zero\n",
      "2022-03-09 10:54:20.653811: I tensorflow/stream_executor/cuda/cuda_gpu_executor.cc:937] successful NUMA node read from SysFS had negative value (-1), but there must be at least one NUMA node, so returning NUMA node zero\n",
      "2022-03-09 10:54:20.655006: I tensorflow/stream_executor/cuda/cuda_gpu_executor.cc:937] successful NUMA node read from SysFS had negative value (-1), but there must be at least one NUMA node, so returning NUMA node zero\n",
      "2022-03-09 10:54:22.984742: I tensorflow/stream_executor/cuda/cuda_gpu_executor.cc:937] successful NUMA node read from SysFS had negative value (-1), but there must be at least one NUMA node, so returning NUMA node zero\n",
      "2022-03-09 10:54:22.987458: I tensorflow/stream_executor/cuda/cuda_gpu_executor.cc:937] successful NUMA node read from SysFS had negative value (-1), but there must be at least one NUMA node, so returning NUMA node zero\n",
      "2022-03-09 10:54:22.988827: I tensorflow/stream_executor/cuda/cuda_gpu_executor.cc:937] successful NUMA node read from SysFS had negative value (-1), but there must be at least one NUMA node, so returning NUMA node zero\n",
      "2022-03-09 10:54:22.990048: I tensorflow/core/common_runtime/gpu/gpu_device.cc:1510] Created device /job:localhost/replica:0/task:0/device:GPU:0 with 15403 MB memory:  -> device: 0, name: Tesla P100-PCIE-16GB, pci bus id: 0000:00:04.0, compute capability: 6.0\n"
     ]
    }
   ],
   "source": [
    "model=Sequential()\n",
    "model.add(Dense(x_train.shape[0],input_dim=x_train.shape[1],activation='relu')) # input layer\n",
    "model.add(Dense(128,activation='relu')) # hidden layers\n",
    "model.add(Dense(128,activation='relu'))\n",
    "model.add(Dense(128,activation='relu'))\n",
    "model.add(Dense(128,activation='relu'))\n",
    "model.add(Dense(128,activation='relu'))\n",
    "model.add(Dense(1,activation='sigmoid')) # sigmoid output"
   ]
  },
  {
   "cell_type": "code",
   "execution_count": 14,
   "id": "a4ad142d",
   "metadata": {
    "execution": {
     "iopub.execute_input": "2022-03-09T10:54:23.648232Z",
     "iopub.status.busy": "2022-03-09T10:54:23.647112Z",
     "iopub.status.idle": "2022-03-09T10:54:23.664618Z",
     "shell.execute_reply": "2022-03-09T10:54:23.665737Z",
     "shell.execute_reply.started": "2022-03-09T10:53:34.796295Z"
    },
    "papermill": {
     "duration": 0.048695,
     "end_time": "2022-03-09T10:54:23.665949",
     "exception": false,
     "start_time": "2022-03-09T10:54:23.617254",
     "status": "completed"
    },
    "tags": []
   },
   "outputs": [],
   "source": [
    "model.compile(loss='binary_crossentropy', optimizer=tf.keras.optimizers.SGD(learning_rate=lr_schedule), \n",
    "              metrics=[tf.keras.metrics.BinaryAccuracy(threshold=conf),tf.keras.metrics.Recall()])"
   ]
  },
  {
   "cell_type": "code",
   "execution_count": 15,
   "id": "18fc3d62",
   "metadata": {
    "execution": {
     "iopub.execute_input": "2022-03-09T10:54:23.719080Z",
     "iopub.status.busy": "2022-03-09T10:54:23.717944Z",
     "iopub.status.idle": "2022-03-09T10:54:23.725493Z",
     "shell.execute_reply": "2022-03-09T10:54:23.724922Z",
     "shell.execute_reply.started": "2022-03-09T10:53:34.817017Z"
    },
    "papermill": {
     "duration": 0.037222,
     "end_time": "2022-03-09T10:54:23.725650",
     "exception": false,
     "start_time": "2022-03-09T10:54:23.688428",
     "status": "completed"
    },
    "tags": []
   },
   "outputs": [
    {
     "name": "stdout",
     "output_type": "stream",
     "text": [
      "Model: \"sequential\"\n",
      "_________________________________________________________________\n",
      "Layer (type)                 Output Shape              Param #   \n",
      "=================================================================\n",
      "dense (Dense)                (None, 560)               9520      \n",
      "_________________________________________________________________\n",
      "dense_1 (Dense)              (None, 128)               71808     \n",
      "_________________________________________________________________\n",
      "dense_2 (Dense)              (None, 128)               16512     \n",
      "_________________________________________________________________\n",
      "dense_3 (Dense)              (None, 128)               16512     \n",
      "_________________________________________________________________\n",
      "dense_4 (Dense)              (None, 128)               16512     \n",
      "_________________________________________________________________\n",
      "dense_5 (Dense)              (None, 128)               16512     \n",
      "_________________________________________________________________\n",
      "dense_6 (Dense)              (None, 1)                 129       \n",
      "=================================================================\n",
      "Total params: 147,505\n",
      "Trainable params: 147,505\n",
      "Non-trainable params: 0\n",
      "_________________________________________________________________\n"
     ]
    }
   ],
   "source": [
    "model.summary()"
   ]
  },
  {
   "cell_type": "code",
   "execution_count": 16,
   "id": "535caa94",
   "metadata": {
    "execution": {
     "iopub.execute_input": "2022-03-09T10:54:23.776125Z",
     "iopub.status.busy": "2022-03-09T10:54:23.775082Z",
     "iopub.status.idle": "2022-03-09T10:54:28.398241Z",
     "shell.execute_reply": "2022-03-09T10:54:28.398859Z",
     "shell.execute_reply.started": "2022-03-09T10:53:34.829059Z"
    },
    "papermill": {
     "duration": 4.651142,
     "end_time": "2022-03-09T10:54:28.399082",
     "exception": false,
     "start_time": "2022-03-09T10:54:23.747940",
     "status": "completed"
    },
    "tags": []
   },
   "outputs": [
    {
     "name": "stderr",
     "output_type": "stream",
     "text": [
      "2022-03-09 10:54:23.876276: I tensorflow/compiler/mlir/mlir_graph_optimization_pass.cc:185] None of the MLIR Optimization Passes are enabled (registered 2)\n"
     ]
    },
    {
     "name": "stdout",
     "output_type": "stream",
     "text": [
      "Epoch 1/20\n",
      "16/16 [==============================] - 2s 29ms/step - loss: 1.4485 - binary_accuracy: 0.7750 - recall: 0.9286 - val_loss: 0.7198 - val_binary_accuracy: 0.7542 - val_recall: 1.0000\n",
      "Epoch 2/20\n",
      "16/16 [==============================] - 0s 7ms/step - loss: 1.4001 - binary_accuracy: 0.7750 - recall: 1.0000 - val_loss: 0.7409 - val_binary_accuracy: 0.7542 - val_recall: 1.0000\n",
      "Epoch 3/20\n",
      "16/16 [==============================] - 0s 7ms/step - loss: 1.3578 - binary_accuracy: 0.7750 - recall: 1.0000 - val_loss: 0.7593 - val_binary_accuracy: 0.7542 - val_recall: 1.0000\n",
      "Epoch 4/20\n",
      "16/16 [==============================] - 0s 7ms/step - loss: 1.3165 - binary_accuracy: 0.7750 - recall: 1.0000 - val_loss: 0.7780 - val_binary_accuracy: 0.7542 - val_recall: 1.0000\n",
      "Epoch 5/20\n",
      "16/16 [==============================] - 0s 7ms/step - loss: 1.2720 - binary_accuracy: 0.7750 - recall: 1.0000 - val_loss: 0.7919 - val_binary_accuracy: 0.7542 - val_recall: 1.0000\n",
      "Epoch 6/20\n",
      "16/16 [==============================] - 0s 7ms/step - loss: 1.2247 - binary_accuracy: 0.7750 - recall: 1.0000 - val_loss: 0.7996 - val_binary_accuracy: 0.7542 - val_recall: 1.0000\n",
      "Epoch 7/20\n",
      "16/16 [==============================] - 0s 7ms/step - loss: 1.1783 - binary_accuracy: 0.7768 - recall: 1.0000 - val_loss: 0.7973 - val_binary_accuracy: 0.7583 - val_recall: 1.0000\n",
      "Epoch 8/20\n",
      "16/16 [==============================] - 0s 7ms/step - loss: 1.1350 - binary_accuracy: 0.8196 - recall: 1.0000 - val_loss: 0.7964 - val_binary_accuracy: 0.8208 - val_recall: 1.0000\n",
      "Epoch 9/20\n",
      "16/16 [==============================] - 0s 7ms/step - loss: 1.0938 - binary_accuracy: 0.8768 - recall: 1.0000 - val_loss: 0.7795 - val_binary_accuracy: 0.8333 - val_recall: 1.0000\n",
      "Epoch 10/20\n",
      "16/16 [==============================] - 0s 7ms/step - loss: 1.0561 - binary_accuracy: 0.8893 - recall: 1.0000 - val_loss: 0.7638 - val_binary_accuracy: 0.8667 - val_recall: 1.0000\n",
      "Epoch 11/20\n",
      "16/16 [==============================] - 0s 7ms/step - loss: 1.0223 - binary_accuracy: 0.8893 - recall: 0.9921 - val_loss: 0.7393 - val_binary_accuracy: 0.8667 - val_recall: 0.9831\n",
      "Epoch 12/20\n",
      "16/16 [==============================] - 0s 7ms/step - loss: 0.9920 - binary_accuracy: 0.8875 - recall: 0.9762 - val_loss: 0.7299 - val_binary_accuracy: 0.8792 - val_recall: 0.9661\n",
      "Epoch 13/20\n",
      "16/16 [==============================] - 0s 9ms/step - loss: 0.9663 - binary_accuracy: 0.8804 - recall: 0.9683 - val_loss: 0.7221 - val_binary_accuracy: 0.8833 - val_recall: 0.9492\n",
      "Epoch 14/20\n",
      "16/16 [==============================] - 0s 7ms/step - loss: 0.9430 - binary_accuracy: 0.8821 - recall: 0.9603 - val_loss: 0.7203 - val_binary_accuracy: 0.8833 - val_recall: 0.9492\n",
      "Epoch 15/20\n",
      "16/16 [==============================] - 0s 7ms/step - loss: 0.9251 - binary_accuracy: 0.8750 - recall: 0.9524 - val_loss: 0.6913 - val_binary_accuracy: 0.8833 - val_recall: 0.9492\n",
      "Epoch 16/20\n",
      "16/16 [==============================] - 0s 7ms/step - loss: 0.9074 - binary_accuracy: 0.8804 - recall: 0.9365 - val_loss: 0.6822 - val_binary_accuracy: 0.8833 - val_recall: 0.9492\n",
      "Epoch 17/20\n",
      "16/16 [==============================] - 0s 9ms/step - loss: 0.8932 - binary_accuracy: 0.8768 - recall: 0.9365 - val_loss: 0.6682 - val_binary_accuracy: 0.8833 - val_recall: 0.9492\n",
      "Epoch 18/20\n",
      "16/16 [==============================] - 0s 7ms/step - loss: 0.8792 - binary_accuracy: 0.8750 - recall: 0.9365 - val_loss: 0.6528 - val_binary_accuracy: 0.8833 - val_recall: 0.9492\n",
      "Epoch 19/20\n",
      "16/16 [==============================] - 0s 7ms/step - loss: 0.8688 - binary_accuracy: 0.8786 - recall: 0.9206 - val_loss: 0.6479 - val_binary_accuracy: 0.8833 - val_recall: 0.9492\n",
      "Epoch 20/20\n",
      "16/16 [==============================] - 0s 9ms/step - loss: 0.8576 - binary_accuracy: 0.8750 - recall: 0.9206 - val_loss: 0.6226 - val_binary_accuracy: 0.8833 - val_recall: 0.9492\n"
     ]
    }
   ],
   "source": [
    "H = model.fit(x=x_train, y=y_train, epochs=n_epochs, batch_size=batch_size,\n",
    "              validation_data=(x_val, y_val),\n",
    "              class_weight = {0: 1, 1: weight})"
   ]
  },
  {
   "cell_type": "code",
   "execution_count": 17,
   "id": "297c956c",
   "metadata": {
    "execution": {
     "iopub.execute_input": "2022-03-09T10:54:28.504240Z",
     "iopub.status.busy": "2022-03-09T10:54:28.503485Z",
     "iopub.status.idle": "2022-03-09T10:54:28.662549Z",
     "shell.execute_reply": "2022-03-09T10:54:28.661858Z",
     "shell.execute_reply.started": "2022-03-09T10:53:40.626165Z"
    },
    "papermill": {
     "duration": 0.213198,
     "end_time": "2022-03-09T10:54:28.662700",
     "exception": false,
     "start_time": "2022-03-09T10:54:28.449502",
     "status": "completed"
    },
    "tags": []
   },
   "outputs": [],
   "source": [
    "#Predicted values of y for test dataset\n",
    "y_pred_test = model.predict(test)\n",
    "\n",
    "#Creating a new dataframe with ID and predicted y values\n",
    "pred_df['Class/ASD'] = y_pred_test\n",
    "\n",
    "#Exporting the values to a csv file\n",
    "pred_df.to_csv('submission.csv', index = False)"
   ]
  }
 ],
 "metadata": {
  "kernelspec": {
   "display_name": "Python 3",
   "language": "python",
   "name": "python3"
  },
  "language_info": {
   "codemirror_mode": {
    "name": "ipython",
    "version": 3
   },
   "file_extension": ".py",
   "mimetype": "text/x-python",
   "name": "python",
   "nbconvert_exporter": "python",
   "pygments_lexer": "ipython3",
   "version": "3.7.12"
  },
  "papermill": {
   "default_parameters": {},
   "duration": 29.884714,
   "end_time": "2022-03-09T10:54:32.133381",
   "environment_variables": {},
   "exception": null,
   "input_path": "__notebook__.ipynb",
   "output_path": "__notebook__.ipynb",
   "parameters": {},
   "start_time": "2022-03-09T10:54:02.248667",
   "version": "2.3.3"
  }
 },
 "nbformat": 4,
 "nbformat_minor": 5
}
