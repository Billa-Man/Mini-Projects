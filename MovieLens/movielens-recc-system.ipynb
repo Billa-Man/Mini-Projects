{
 "cells": [
  {
   "cell_type": "code",
   "execution_count": 1,
   "id": "a59fb57e",
   "metadata": {
    "_cell_guid": "b1076dfc-b9ad-4769-8c92-a6c4dae69d19",
    "_uuid": "8f2839f25d086af736a60e9eeb907d3b93b6e0e5",
    "execution": {
     "iopub.execute_input": "2022-03-05T11:39:29.414356Z",
     "iopub.status.busy": "2022-03-05T11:39:29.413238Z",
     "iopub.status.idle": "2022-03-05T11:39:30.660134Z",
     "shell.execute_reply": "2022-03-05T11:39:30.660577Z",
     "shell.execute_reply.started": "2022-03-05T11:38:21.219312Z"
    },
    "papermill": {
     "duration": 1.260033,
     "end_time": "2022-03-05T11:39:30.660875",
     "exception": false,
     "start_time": "2022-03-05T11:39:29.400842",
     "status": "completed"
    },
    "tags": []
   },
   "outputs": [
    {
     "name": "stdout",
     "output_type": "stream",
     "text": [
      "/kaggle/input/movielens-dataset/movies.csv\n",
      "/kaggle/input/movielens-dataset/ratings.csv\n"
     ]
    }
   ],
   "source": [
    "# This Python 3 environment comes with many helpful analytics libraries installed\n",
    "# It is defined by the kaggle/python Docker image: https://github.com/kaggle/docker-python\n",
    "# For example, here's several helpful packages to load\n",
    "\n",
    "import numpy as np # linear algebra\n",
    "import pandas as pd # data processing, CSV file I/O (e.g. pd.read_csv)\n",
    "\n",
    "import sklearn\n",
    "from scipy.sparse import csr_matrix\n",
    "from sklearn.neighbors import NearestNeighbors\n",
    "\n",
    "# Input data files are available in the read-only \"../input/\" directory\n",
    "# For example, running this (by clicking run or pressing Shift+Enter) will list all files under the input directory\n",
    "\n",
    "import os\n",
    "for dirname, _, filenames in os.walk('/kaggle/input'):\n",
    "    for filename in filenames:\n",
    "        print(os.path.join(dirname, filename))\n",
    "\n",
    "# You can write up to 20GB to the current directory (/kaggle/working/) that gets preserved as output when you create a version using \"Save & Run All\" \n",
    "# You can also write temporary files to /kaggle/temp/, but they won't be saved outside of the current session"
   ]
  },
  {
   "cell_type": "code",
   "execution_count": 2,
   "id": "6c0d31e5",
   "metadata": {
    "execution": {
     "iopub.execute_input": "2022-03-05T11:39:30.682686Z",
     "iopub.status.busy": "2022-03-05T11:39:30.682047Z",
     "iopub.status.idle": "2022-03-05T11:39:30.801036Z",
     "shell.execute_reply": "2022-03-05T11:39:30.801489Z",
     "shell.execute_reply.started": "2022-03-05T11:38:22.499475Z"
    },
    "papermill": {
     "duration": 0.132018,
     "end_time": "2022-03-05T11:39:30.801664",
     "exception": false,
     "start_time": "2022-03-05T11:39:30.669646",
     "status": "completed"
    },
    "tags": []
   },
   "outputs": [
    {
     "data": {
      "text/html": [
       "<div>\n",
       "<style scoped>\n",
       "    .dataframe tbody tr th:only-of-type {\n",
       "        vertical-align: middle;\n",
       "    }\n",
       "\n",
       "    .dataframe tbody tr th {\n",
       "        vertical-align: top;\n",
       "    }\n",
       "\n",
       "    .dataframe thead th {\n",
       "        text-align: right;\n",
       "    }\n",
       "</style>\n",
       "<table border=\"1\" class=\"dataframe\">\n",
       "  <thead>\n",
       "    <tr style=\"text-align: right;\">\n",
       "      <th></th>\n",
       "      <th>userId</th>\n",
       "      <th>movieId</th>\n",
       "      <th>rating</th>\n",
       "      <th>timestamp</th>\n",
       "    </tr>\n",
       "  </thead>\n",
       "  <tbody>\n",
       "    <tr>\n",
       "      <th>0</th>\n",
       "      <td>1</td>\n",
       "      <td>16</td>\n",
       "      <td>4.0</td>\n",
       "      <td>1217897793</td>\n",
       "    </tr>\n",
       "    <tr>\n",
       "      <th>1</th>\n",
       "      <td>1</td>\n",
       "      <td>24</td>\n",
       "      <td>1.5</td>\n",
       "      <td>1217895807</td>\n",
       "    </tr>\n",
       "    <tr>\n",
       "      <th>2</th>\n",
       "      <td>1</td>\n",
       "      <td>32</td>\n",
       "      <td>4.0</td>\n",
       "      <td>1217896246</td>\n",
       "    </tr>\n",
       "    <tr>\n",
       "      <th>3</th>\n",
       "      <td>1</td>\n",
       "      <td>47</td>\n",
       "      <td>4.0</td>\n",
       "      <td>1217896556</td>\n",
       "    </tr>\n",
       "    <tr>\n",
       "      <th>4</th>\n",
       "      <td>1</td>\n",
       "      <td>50</td>\n",
       "      <td>4.0</td>\n",
       "      <td>1217896523</td>\n",
       "    </tr>\n",
       "  </tbody>\n",
       "</table>\n",
       "</div>"
      ],
      "text/plain": [
       "   userId  movieId  rating   timestamp\n",
       "0       1       16     4.0  1217897793\n",
       "1       1       24     1.5  1217895807\n",
       "2       1       32     4.0  1217896246\n",
       "3       1       47     4.0  1217896556\n",
       "4       1       50     4.0  1217896523"
      ]
     },
     "execution_count": 2,
     "metadata": {},
     "output_type": "execute_result"
    }
   ],
   "source": [
    "movies = pd.read_csv(\"../input/movielens-dataset/movies.csv\")\n",
    "movies.head()\n",
    "\n",
    "ratings = pd.read_csv('../input/movielens-dataset/ratings.csv')\n",
    "ratings.head()"
   ]
  },
  {
   "cell_type": "code",
   "execution_count": 3,
   "id": "cbf34a11",
   "metadata": {
    "execution": {
     "iopub.execute_input": "2022-03-05T11:39:30.820829Z",
     "iopub.status.busy": "2022-03-05T11:39:30.820223Z",
     "iopub.status.idle": "2022-03-05T11:39:30.843991Z",
     "shell.execute_reply": "2022-03-05T11:39:30.844670Z",
     "shell.execute_reply.started": "2022-03-05T11:38:22.662638Z"
    },
    "papermill": {
     "duration": 0.035079,
     "end_time": "2022-03-05T11:39:30.844873",
     "exception": false,
     "start_time": "2022-03-05T11:39:30.809794",
     "status": "completed"
    },
    "tags": []
   },
   "outputs": [
    {
     "data": {
      "text/html": [
       "<div>\n",
       "<style scoped>\n",
       "    .dataframe tbody tr th:only-of-type {\n",
       "        vertical-align: middle;\n",
       "    }\n",
       "\n",
       "    .dataframe tbody tr th {\n",
       "        vertical-align: top;\n",
       "    }\n",
       "\n",
       "    .dataframe thead th {\n",
       "        text-align: right;\n",
       "    }\n",
       "</style>\n",
       "<table border=\"1\" class=\"dataframe\">\n",
       "  <thead>\n",
       "    <tr style=\"text-align: right;\">\n",
       "      <th></th>\n",
       "      <th>userId</th>\n",
       "      <th>n_ratings</th>\n",
       "    </tr>\n",
       "  </thead>\n",
       "  <tbody>\n",
       "    <tr>\n",
       "      <th>0</th>\n",
       "      <td>1</td>\n",
       "      <td>113</td>\n",
       "    </tr>\n",
       "    <tr>\n",
       "      <th>1</th>\n",
       "      <td>2</td>\n",
       "      <td>29</td>\n",
       "    </tr>\n",
       "    <tr>\n",
       "      <th>2</th>\n",
       "      <td>3</td>\n",
       "      <td>73</td>\n",
       "    </tr>\n",
       "    <tr>\n",
       "      <th>3</th>\n",
       "      <td>4</td>\n",
       "      <td>124</td>\n",
       "    </tr>\n",
       "    <tr>\n",
       "      <th>4</th>\n",
       "      <td>5</td>\n",
       "      <td>68</td>\n",
       "    </tr>\n",
       "  </tbody>\n",
       "</table>\n",
       "</div>"
      ],
      "text/plain": [
       "   userId  n_ratings\n",
       "0       1        113\n",
       "1       2         29\n",
       "2       3         73\n",
       "3       4        124\n",
       "4       5         68"
      ]
     },
     "execution_count": 3,
     "metadata": {},
     "output_type": "execute_result"
    }
   ],
   "source": [
    "n_users = len(ratings['userId'].unique())\n",
    "n_movies = len(ratings['movieId'].unique())\n",
    "n_ratings = len(ratings)\n",
    "  \n",
    "user_freq = ratings[['userId', 'movieId']].groupby('userId').count().reset_index()\n",
    "user_freq.columns = ['userId', 'n_ratings']\n",
    "user_freq.head()"
   ]
  },
  {
   "cell_type": "code",
   "execution_count": 4,
   "id": "4db5db0f",
   "metadata": {
    "execution": {
     "iopub.execute_input": "2022-03-05T11:39:30.864775Z",
     "iopub.status.busy": "2022-03-05T11:39:30.864135Z",
     "iopub.status.idle": "2022-03-05T11:39:30.891175Z",
     "shell.execute_reply": "2022-03-05T11:39:30.891664Z",
     "shell.execute_reply.started": "2022-03-05T11:38:22.692483Z"
    },
    "papermill": {
     "duration": 0.038564,
     "end_time": "2022-03-05T11:39:30.891852",
     "exception": false,
     "start_time": "2022-03-05T11:39:30.853288",
     "status": "completed"
    },
    "tags": []
   },
   "outputs": [],
   "source": [
    "mean_rating = ratings.groupby('movieId')[['rating']].mean()\n",
    "\n",
    "# Lowest rated movies\n",
    "lowest_rated = mean_rating['rating'].idxmin()\n",
    "movies.loc[movies['movieId'] == lowest_rated]\n",
    "\n",
    "# Highest rated movies\n",
    "highest_rated = mean_rating['rating'].idxmax()\n",
    "movies.loc[movies['movieId'] == highest_rated]\n",
    "\n",
    "# ratings[ratings['movieId']==highest_rated]\n",
    "# ratings[ratings['movieId']==lowest_rated]\n",
    "  \n",
    "# Bayesian average\n",
    "movie_stats = ratings.groupby('movieId')[['rating']].agg(['count', 'mean'])\n",
    "movie_stats.columns = movie_stats.columns.droplevel()"
   ]
  },
  {
   "cell_type": "code",
   "execution_count": 5,
   "id": "b07309ca",
   "metadata": {
    "execution": {
     "iopub.execute_input": "2022-03-05T11:39:30.912138Z",
     "iopub.status.busy": "2022-03-05T11:39:30.911449Z",
     "iopub.status.idle": "2022-03-05T11:39:30.917856Z",
     "shell.execute_reply": "2022-03-05T11:39:30.918419Z",
     "shell.execute_reply.started": "2022-03-05T11:38:22.725625Z"
    },
    "papermill": {
     "duration": 0.018078,
     "end_time": "2022-03-05T11:39:30.918634",
     "exception": false,
     "start_time": "2022-03-05T11:39:30.900556",
     "status": "completed"
    },
    "tags": []
   },
   "outputs": [],
   "source": [
    "def create_matrix(df):\n",
    "      \n",
    "    N = len(df['userId'].unique())\n",
    "    M = len(df['movieId'].unique())\n",
    "    \n",
    "    user_mapper = dict(zip(np.unique(df[\"userId\"]), list(range(N))))\n",
    "    movie_mapper = dict(zip(np.unique(df[\"movieId\"]), list(range(M))))\n",
    "    \n",
    "    user_inv_mapper = dict(zip(list(range(N)), np.unique(df[\"userId\"])))\n",
    "    movie_inv_mapper = dict(zip(list(range(M)), np.unique(df[\"movieId\"])))\n",
    "      \n",
    "    user_index = [user_mapper[i] for i in df['userId']]\n",
    "    movie_index = [movie_mapper[i] for i in df['movieId']]\n",
    "  \n",
    "    X = csr_matrix((df[\"rating\"], (movie_index, user_index)), shape=(M, N))\n",
    "      \n",
    "    return X, user_mapper, movie_mapper, user_inv_mapper, movie_inv_mapper"
   ]
  },
  {
   "cell_type": "code",
   "execution_count": 6,
   "id": "2126c5d5",
   "metadata": {
    "execution": {
     "iopub.execute_input": "2022-03-05T11:39:30.939213Z",
     "iopub.status.busy": "2022-03-05T11:39:30.938604Z",
     "iopub.status.idle": "2022-03-05T11:39:31.031868Z",
     "shell.execute_reply": "2022-03-05T11:39:31.031180Z",
     "shell.execute_reply.started": "2022-03-05T11:38:22.735767Z"
    },
    "papermill": {
     "duration": 0.10474,
     "end_time": "2022-03-05T11:39:31.032012",
     "exception": false,
     "start_time": "2022-03-05T11:39:30.927272",
     "status": "completed"
    },
    "tags": []
   },
   "outputs": [],
   "source": [
    "X, user_mapper, movie_mapper, user_inv_mapper, movie_inv_mapper = create_matrix(ratings)"
   ]
  },
  {
   "cell_type": "code",
   "execution_count": 7,
   "id": "54df43d2",
   "metadata": {
    "execution": {
     "iopub.execute_input": "2022-03-05T11:39:31.056702Z",
     "iopub.status.busy": "2022-03-05T11:39:31.055864Z",
     "iopub.status.idle": "2022-03-05T11:39:31.058732Z",
     "shell.execute_reply": "2022-03-05T11:39:31.058136Z",
     "shell.execute_reply.started": "2022-03-05T11:38:22.894136Z"
    },
    "papermill": {
     "duration": 0.01797,
     "end_time": "2022-03-05T11:39:31.058873",
     "exception": false,
     "start_time": "2022-03-05T11:39:31.040903",
     "status": "completed"
    },
    "tags": []
   },
   "outputs": [],
   "source": [
    "def find_similar_movies(movie_id, X, k, metric = 'cosine', show_distance = False):\n",
    "      \n",
    "    neighbour_ids = []\n",
    "      \n",
    "    movie_ind = movie_mapper[movie_id]\n",
    "    movie_vec = X[movie_ind]\n",
    "    k+=1\n",
    "    \n",
    "    kNN = NearestNeighbors(n_neighbors = k, algorithm = 'brute', metric = metric)\n",
    "    kNN.fit(X)\n",
    "    \n",
    "    movie_vec = movie_vec.reshape(1,-1)\n",
    "    neighbour = kNN.kneighbors(movie_vec, return_distance=show_distance)\n",
    "    \n",
    "    for i in range(0,k):\n",
    "        n = neighbour.item(i)\n",
    "        neighbour_ids.append(movie_inv_mapper[n])\n",
    "        \n",
    "    neighbour_ids.pop(0)\n",
    "    \n",
    "    return neighbour_ids"
   ]
  },
  {
   "cell_type": "code",
   "execution_count": 8,
   "id": "ffcd4246",
   "metadata": {
    "execution": {
     "iopub.execute_input": "2022-03-05T11:39:31.079347Z",
     "iopub.status.busy": "2022-03-05T11:39:31.078456Z",
     "iopub.status.idle": "2022-03-05T11:39:31.099803Z",
     "shell.execute_reply": "2022-03-05T11:39:31.100527Z",
     "shell.execute_reply.started": "2022-03-05T11:38:22.902157Z"
    },
    "papermill": {
     "duration": 0.033545,
     "end_time": "2022-03-05T11:39:31.100816",
     "exception": false,
     "start_time": "2022-03-05T11:39:31.067271",
     "status": "completed"
    },
    "tags": []
   },
   "outputs": [
    {
     "name": "stdout",
     "output_type": "stream",
     "text": [
      "Since you watched Heat (1995)\n",
      "Rock, The (1996)\n",
      "Eraser (1996)\n",
      "Broken Arrow (1996)\n",
      "Twelve Monkeys (a.k.a. 12 Monkeys) (1995)\n",
      "Mission: Impossible (1996)\n"
     ]
    }
   ],
   "source": [
    "movie_titles = dict(zip(movies['movieId'], movies['title']))\n",
    "  \n",
    "movie_id = 6\n",
    "  \n",
    "similar_ids = find_similar_movies(movie_id, X, k=5)\n",
    "movie_title = movie_titles[movie_id]\n",
    "  \n",
    "print(\"Since you watched\", movie_title)\n",
    "for i in similar_ids:\n",
    "    print(movie_titles[i])"
   ]
  }
 ],
 "metadata": {
  "kernelspec": {
   "display_name": "Python 3",
   "language": "python",
   "name": "python3"
  },
  "language_info": {
   "codemirror_mode": {
    "name": "ipython",
    "version": 3
   },
   "file_extension": ".py",
   "mimetype": "text/x-python",
   "name": "python",
   "nbconvert_exporter": "python",
   "pygments_lexer": "ipython3",
   "version": "3.7.12"
  },
  "papermill": {
   "default_parameters": {},
   "duration": 11.255017,
   "end_time": "2022-03-05T11:39:31.821606",
   "environment_variables": {},
   "exception": null,
   "input_path": "__notebook__.ipynb",
   "output_path": "__notebook__.ipynb",
   "parameters": {},
   "start_time": "2022-03-05T11:39:20.566589",
   "version": "2.3.3"
  }
 },
 "nbformat": 4,
 "nbformat_minor": 5
}
